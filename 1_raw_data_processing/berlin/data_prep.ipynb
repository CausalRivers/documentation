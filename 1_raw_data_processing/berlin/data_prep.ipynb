{
 "cells": [
  {
   "cell_type": "code",
   "execution_count": 1,
   "metadata": {},
   "outputs": [],
   "source": [
    "import pandas as pd\n",
    "import numpy as np\n",
    "import functools as ft\n",
    "import requests\n",
    "from bs4 import BeautifulSoup\n",
    "import utm\n",
    "\n",
    "import sys\n",
    "\n",
    "sys.path.append(\"..\")\n",
    "from tools import data_path, output_path"
   ]
  },
  {
   "cell_type": "markdown",
   "metadata": {},
   "source": [
    "### Data origin: \n",
    "Data was privately provided by berlin authorities. Not reproducible without original data."
   ]
  },
  {
   "cell_type": "code",
   "execution_count": 2,
   "metadata": {},
   "outputs": [],
   "source": [
    "f = open(data_path + \"WQ_Blunk/check.txt\", \"r\", errors=\"replace\")\n",
    "data = f.read()\n",
    "data = data.split(\"\\n\")\n",
    "data = [x.split(\" \") for x in data]"
   ]
  },
  {
   "cell_type": "code",
   "execution_count": 3,
   "metadata": {},
   "outputs": [],
   "source": [
    "stack = []\n",
    "current = []\n",
    "meta = [data[2][0].split(\"/\")[2]]\n",
    "for x in data[7:]:\n",
    "    if len(x) != 2:\n",
    "        if len(current) == 0:\n",
    "            if \"Senat\" in x[0]:\n",
    "                meta.append(x[0].split(\"/\")[2])\n",
    "        else:\n",
    "            stack.append(current)\n",
    "            current = []\n",
    "    else:\n",
    "        current.append(x)"
   ]
  },
  {
   "cell_type": "code",
   "execution_count": 4,
   "metadata": {},
   "outputs": [],
   "source": [
    "merge_stack = []\n",
    "for n, x in enumerate(stack):\n",
    "    parse = pd.DataFrame(x)\n",
    "    parse[0] = pd.to_datetime(parse[0])\n",
    "    parse.loc[parse[1] == \"-777\", 1] = np.nan\n",
    "    parse[1] = parse[1].astype(float)\n",
    "    parse.columns = [\"datetime\", meta[n]]\n",
    "    merge_stack.append(parse)"
   ]
  },
  {
   "cell_type": "code",
   "execution_count": 5,
   "metadata": {},
   "outputs": [],
   "source": [
    "stack = ft.reduce(\n",
    "    lambda left, right: pd.merge(left, right, on=\"datetime\", how=\"outer\"), merge_stack\n",
    ")\n",
    "stack.index = stack[\"datetime\"]\n",
    "stack.drop(columns=\"datetime\", inplace=True)\n",
    "stack.columns = [x + \"_b\" for x in stack.columns]"
   ]
  },
  {
   "cell_type": "code",
   "execution_count": 18,
   "metadata": {},
   "outputs": [
    {
     "name": "stdout",
     "output_type": "stream",
     "text": [
      "5865300_b\n",
      "5867900_b\n",
      "5827101_b\n",
      "5870100_b\n",
      "5826701_b\n",
      "5862811_b\n",
      "5827700_b\n",
      "5803200_b\n",
      "5866301_b\n"
     ]
    }
   ],
   "source": [
    "# Get meta data.\n",
    "info_stack = []\n",
    "for x in stack.columns[1:]:\n",
    "    print(x)\n",
    "    response = requests.get(\n",
    "        \"https://wasserportal.berlin.de/station.php?anzeige=i&thema=ows&station=\"\n",
    "        + str(x[:-2])\n",
    "    )\n",
    "    soup = BeautifulSoup(response.text, \"html.parser\")\n",
    "    indiatable = soup.find(\"table\", {\"class\": \"wikitable\"})\n",
    "    infos = (\n",
    "        soup.text.split(\n",
    "           \"Sauerstoffgehalt\\nSauerstoffsättigung\\nKennwerte\\nLagekarte\\n\\n\\n\\n\\n \\n\\n\\n\\n\\n\\n\"\n",
    "        )[1]\n",
    "        .split(\"Blättern durch alle Berliner Messstellen:\")[0]\n",
    "        .split(\"\\n\")\n",
    "    )\n",
    "\n",
    "    info_stack.append(\"\".join([x for x in infos if len(x) > 50]))"
   ]
  },
  {
   "cell_type": "code",
   "execution_count": 24,
   "metadata": {},
   "outputs": [],
   "source": [
    "table = []\n",
    "for info in info_stack:\n",
    "    current = info\n",
    "    splitters = [\n",
    "        \"Nummer\",\n",
    "        \"Name\",\n",
    "        \"Gewässer\",\n",
    "        \"Betreiber\",\n",
    "        \"Ausprägung\",\n",
    "        \"Flusskilometer\",\n",
    "        \"Pegelnullpunkt (m +NHN)\",\n",
    "        \"Rechtswert (UTM 33 N)\",\n",
    "        \"Hochwert (UTM 33 N)\",\n",
    "    ]\n",
    "    info_hold = []\n",
    "    for splitter in splitters:\n",
    "\n",
    "        sep = current.split(splitter)\n",
    "        info_hold.append(sep[0])\n",
    "        current = sep[1]\n",
    "    info_hold.append(current)\n",
    "    table.append(info_hold)"
   ]
  },
  {
   "cell_type": "code",
   "execution_count": 26,
   "metadata": {},
   "outputs": [],
   "source": [
    "table = pd.DataFrame(table, columns=[\" \"] + splitters)\n",
    "table.index = table[\"Nummer\"]\n",
    "table.drop(columns=\"Nummer\", inplace=True)"
   ]
  },
  {
   "cell_type": "code",
   "execution_count": null,
   "metadata": {},
   "outputs": [],
   "source": [
    "table[\"Hochwert (UTM 33 N)\"] = [x[0] for x in table[\"Hochwert (UTM 33 N)\"].str.split(\"An\")]"
   ]
  },
  {
   "cell_type": "code",
   "execution_count": 35,
   "metadata": {},
   "outputs": [],
   "source": [
    "table[\"Rechtswert (UTM 33 N)\"] = table[\"Rechtswert (UTM 33 N)\"].astype(int)\n",
    "table[\"Hochwert (UTM 33 N)\"] = table[\"Hochwert (UTM 33 N)\"].astype(int)"
   ]
  },
  {
   "cell_type": "markdown",
   "metadata": {},
   "source": [
    "### Bring into general Format"
   ]
  },
  {
   "cell_type": "code",
   "execution_count": 36,
   "metadata": {},
   "outputs": [
    {
     "name": "stderr",
     "output_type": "stream",
     "text": [
      "/tmp/ipykernel_4182074/3168747043.py:3: FutureWarning: Setting an item of incompatible dtype is deprecated and will raise an error in a future version of pandas. Value '52.45907678803533' has dtype incompatible with int64, please explicitly cast to a compatible dtype first.\n",
      "  table.loc[ind, [\"Rechtswert (UTM 33 N)\", \"Hochwert (UTM 33 N)\"]] = utm.to_latlon(\n",
      "/tmp/ipykernel_4182074/3168747043.py:3: FutureWarning: Setting an item of incompatible dtype is deprecated and will raise an error in a future version of pandas. Value '13.576348303220911' has dtype incompatible with int64, please explicitly cast to a compatible dtype first.\n",
      "  table.loc[ind, [\"Rechtswert (UTM 33 N)\", \"Hochwert (UTM 33 N)\"]] = utm.to_latlon(\n"
     ]
    }
   ],
   "source": [
    "# berlin parsing\n",
    "for ind, line in table.iterrows():\n",
    "    table.loc[ind, [\"Rechtswert (UTM 33 N)\", \"Hochwert (UTM 33 N)\"]] = utm.to_latlon(\n",
    "        line[\"Rechtswert (UTM 33 N)\"], line[\"Hochwert (UTM 33 N)\"], 33, \"N\"\n",
    "    )"
   ]
  },
  {
   "cell_type": "code",
   "execution_count": 37,
   "metadata": {},
   "outputs": [],
   "source": [
    "# Flusskilometer seems to be distance to end according to maps check."
   ]
  },
  {
   "cell_type": "code",
   "execution_count": 38,
   "metadata": {},
   "outputs": [],
   "source": [
    "table = table[\n",
    "    [\n",
    "        \"Gewässer\",\n",
    "        \"Rechtswert (UTM 33 N)\",\n",
    "        \"Hochwert (UTM 33 N)\",\n",
    "        \"Flusskilometer\",\n",
    "        \"Pegelnullpunkt (m +NHN)\",\n",
    "    ]\n",
    "]\n",
    "table.columns = [\"R\", \"X\", \"Y\", \"D\", \"H\"]\n",
    "table.index.name = \"ID\""
   ]
  },
  {
   "cell_type": "code",
   "execution_count": 39,
   "metadata": {},
   "outputs": [],
   "source": [
    "table[\"QD\"] = -1\n",
    "table[\"QH\"] = -1\n",
    "table[\"QX\"] = -1\n",
    "table[\"QY\"] = -1\n",
    "table[\"QR\"] = -1"
   ]
  },
  {
   "cell_type": "code",
   "execution_count": 40,
   "metadata": {},
   "outputs": [],
   "source": [
    "table.loc[~(table[\"X\"].isnull()), \"QX\"] = 0\n",
    "table.loc[~(table[\"Y\"].isnull()), \"QY\"] = 0\n",
    "table.loc[~(table[\"D\"].isnull()), \"QD\"] = 0\n",
    "table.loc[~(table[\"R\"].isnull()), \"QR\"] = 0\n",
    "table.loc[~(table[\"H\"].isnull()), \"QH\"] = 0"
   ]
  },
  {
   "cell_type": "code",
   "execution_count": 41,
   "metadata": {},
   "outputs": [],
   "source": [
    "table.to_csv(output_path + \"berlin_meta_data.csv\")"
   ]
  },
  {
   "cell_type": "code",
   "execution_count": 42,
   "metadata": {},
   "outputs": [],
   "source": [
    "stack.to_csv(output_path + \"/berlin_processed.csv\")"
   ]
  }
 ],
 "metadata": {
  "kernelspec": {
   "display_name": "causal_rivers_construction",
   "language": "python",
   "name": "python3"
  },
  "language_info": {
   "codemirror_mode": {
    "name": "ipython",
    "version": 3
   },
   "file_extension": ".py",
   "mimetype": "text/x-python",
   "name": "python",
   "nbconvert_exporter": "python",
   "pygments_lexer": "ipython3",
   "version": "3.13.0"
  }
 },
 "nbformat": 4,
 "nbformat_minor": 2
}
