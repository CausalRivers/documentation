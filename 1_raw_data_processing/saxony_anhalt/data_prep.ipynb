{
 "cells": [
  {
   "cell_type": "code",
   "execution_count": 11,
   "metadata": {},
   "outputs": [],
   "source": [
    "import pandas as pd\n",
    "from os import listdir\n",
    "from os.path import isfile, join\n",
    "import functools as ft\n",
    "import shapefile\n",
    "from datetime import datetime, timedelta\n",
    "import numpy as np\n",
    "import utm\n",
    "import sys\n",
    "\n",
    "sys.path.append(\"..\")\n",
    "from tools import data_path, output_path, cache_path"
   ]
  },
  {
   "cell_type": "markdown",
   "metadata": {},
   "source": [
    "### Data origin: \n",
    "Data was downloaded by hand from their webservice: \n",
    "https://gld.lhw-sachsen-anhalt.de/"
   ]
  },
  {
   "cell_type": "code",
   "execution_count": 12,
   "metadata": {},
   "outputs": [],
   "source": [
    "mypath = data_path + \"/sachsen_anhalt/\"\n",
    "onlyfiles = [mypath + f for f in listdir(mypath) if not isfile(join(mypath, f))]"
   ]
  },
  {
   "cell_type": "code",
   "execution_count": 13,
   "metadata": {},
   "outputs": [],
   "source": [
    "stack = []\n",
    "for x in onlyfiles:\n",
    "    stations = [x + \"/\" + f for f in listdir(x) if not isfile(join(x, f))]\n",
    "    for y in stations: \n",
    "        files = [y + \"/\"  + f for f in listdir(y) if \"Metadaten\"  in f]\n",
    "        if len(files) == 1: \n",
    "            d = pd.read_csv(files[0], sep=\";\")[2:]\n",
    "            d.index = d[\"Metadatum\"].values\n",
    "            d.drop(columns=[\"Metadatum\"], inplace=True)\n",
    "            stack.append(d)"
   ]
  },
  {
   "cell_type": "code",
   "execution_count": 14,
   "metadata": {},
   "outputs": [],
   "source": [
    "meta_data = pd.concat(stack,axis=1).T\n",
    "meta_data.index = meta_data[\"Pegelkennziffer\"].values\n",
    "meta_data.drop_duplicates(inplace=True)\n",
    "meta_data.drop(columns=meta_data.columns[:3],inplace=True)\n",
    "meta_data[\"Entfernung zur Mündung\"]= meta_data[\"Entfernung zur Mündung\"].str[:-3].str.replace(\",\", \".\").astype(float)"
   ]
  },
  {
   "cell_type": "code",
   "execution_count": 15,
   "metadata": {},
   "outputs": [],
   "source": [
    "meta_data.reset_index(inplace=True)"
   ]
  },
  {
   "cell_type": "code",
   "execution_count": 16,
   "metadata": {},
   "outputs": [],
   "source": [
    "# add data from meta export.\n",
    "sf = shapefile.Reader(\n",
    "    data_path\n",
    "    + \"/Export/Pegel Wasserstand-Durchfluss/Pegel Wasserstand-Durchfluss\"\n",
    ")\n",
    "records = sf.records()\n",
    "columns = [x[0] for x in sf.fields[1:]]\n",
    "full_meta = pd.DataFrame([list(x) for x in records], columns=columns)"
   ]
  },
  {
   "cell_type": "code",
   "execution_count": 17,
   "metadata": {},
   "outputs": [],
   "source": [
    "meta_data = meta_data.merge(full_meta, left_on=\"index\", right_on=\"kennziffer\", how=\"left\")"
   ]
  },
  {
   "cell_type": "code",
   "execution_count": 18,
   "metadata": {},
   "outputs": [],
   "source": [
    "stack = []\n",
    "name_stack = []\n",
    "double = 0\n",
    "for x in onlyfiles:\n",
    "    stations = [x + \"/\" + f for f in listdir(x) if not isfile(join(x, f))]\n",
    "    for y in stations: \n",
    "        files = [y + \"/\"  + f for f in listdir(y) if \"Metadaten\" not in f]\n",
    "        if len(files) == 1: \n",
    "            name = files[0].split(\",\")[0].split(\"/\")[-1]\n",
    "            d = pd.read_csv(files[0], sep=\";\")[2:]\n",
    "            d.columns = [\"DT\", \"Q\"]\n",
    "            # dt fix so we can convert\n",
    "            d.loc[d[\"DT\"].str.len() != 19, \"DT\"] +=  \" 00:00:00\"\n",
    "            d[\"DT\"]= pd.to_datetime(d[\"DT\"], format=\"%d.%m.%Y %H:%M:%S\")\n",
    "            d[\"Q\"] = d[\"Q\"].str.replace(\",\", \".\").astype(float)\n",
    "            if name not in name_stack:\n",
    "                d.columns = [\"datetime\", name]\n",
    "                name_stack.append(name)\n",
    "                stack.append(d)\n",
    "            else:\n",
    "                double+=1\n",
    "        else:\n",
    "            print(files)"
   ]
  },
  {
   "cell_type": "code",
   "execution_count": 19,
   "metadata": {},
   "outputs": [],
   "source": [
    "stack = [x for x in stack if len(x) > 0]"
   ]
  },
  {
   "cell_type": "code",
   "execution_count": 20,
   "metadata": {},
   "outputs": [],
   "source": [
    "df_final = ft.reduce(lambda left, right: pd.merge(left, right, on='datetime', how='outer'), stack)"
   ]
  },
  {
   "cell_type": "code",
   "execution_count": 21,
   "metadata": {},
   "outputs": [],
   "source": [
    "df_final = df_final[df_final.datetime.dt.year < 2024]\n",
    "df_final = df_final[df_final.datetime.dt.year > 2018]"
   ]
  },
  {
   "cell_type": "code",
   "execution_count": 22,
   "metadata": {},
   "outputs": [],
   "source": [
    "df_final.columns = [\"datetime\"] + [x + \"_sa\" for x in df_final.columns[1:]]"
   ]
  },
  {
   "cell_type": "code",
   "execution_count": 23,
   "metadata": {},
   "outputs": [],
   "source": [
    "t = pd.to_datetime(np.arange(datetime(2019,1,1, 0,0), datetime(2023,12,31,23,46), timedelta(minutes=15)).astype(datetime))"
   ]
  },
  {
   "cell_type": "code",
   "execution_count": 24,
   "metadata": {},
   "outputs": [],
   "source": [
    "df_final.index = df_final[\"datetime\"]\n",
    "df_final.drop(columns=\"datetime\", inplace=True)"
   ]
  },
  {
   "cell_type": "code",
   "execution_count": 25,
   "metadata": {},
   "outputs": [
    {
     "data": {
      "text/plain": [
       "['597008']"
      ]
     },
     "execution_count": 25,
     "metadata": {},
     "output_type": "execute_result"
    }
   ],
   "source": [
    "# No data here so drop.\n",
    "[x for x in meta_data[\"index\"] if x + \"_sa\" not in df_final.columns]"
   ]
  },
  {
   "cell_type": "code",
   "execution_count": 26,
   "metadata": {},
   "outputs": [
    {
     "data": {
      "text/plain": [
       "np.int64(62)"
      ]
     },
     "execution_count": 26,
     "metadata": {},
     "output_type": "execute_result"
    }
   ],
   "source": [
    "meta_data[meta_data[\"index\"] == '597008'].index[0]"
   ]
  },
  {
   "cell_type": "code",
   "execution_count": 27,
   "metadata": {},
   "outputs": [],
   "source": [
    "meta_data = meta_data.drop(index = meta_data[meta_data[\"index\"] == '597008'].index[0]).reset_index(drop=True)"
   ]
  },
  {
   "cell_type": "markdown",
   "metadata": {},
   "source": [
    "## Bring meta into format"
   ]
  },
  {
   "cell_type": "code",
   "execution_count": 28,
   "metadata": {},
   "outputs": [],
   "source": [
    "ids = meta_data[\"index\"].values"
   ]
  },
  {
   "cell_type": "code",
   "execution_count": 29,
   "metadata": {},
   "outputs": [],
   "source": [
    "meta_data = meta_data[[\"Gewässer\",\"Entfernung zur Mündung\", \"rw\", \"hw\", \"pnp\"]]\n",
    "meta_data.index = ids\n",
    "meta_data.index.name = \"ID\""
   ]
  },
  {
   "cell_type": "code",
   "execution_count": 30,
   "metadata": {},
   "outputs": [],
   "source": [
    "meta_data[\"pnp\"] = (\n",
    "    meta_data[\"pnp\"]\n",
    "    .str.replace(\"m+NN\", \"\",regex=False)\n",
    "    .str.replace(\" m+HN\", \"\",regex=False)\n",
    "    .str.replace(\" DHHN 92\", \"\",regex=False)\n",
    "    .str.replace(\" DHHN 12\", \"\",regex=False)\n",
    ")"
   ]
  },
  {
   "cell_type": "code",
   "execution_count": 31,
   "metadata": {},
   "outputs": [],
   "source": [
    "meta_data.loc[\"578370\", \"pnp\"] = None"
   ]
  },
  {
   "cell_type": "code",
   "execution_count": 32,
   "metadata": {},
   "outputs": [],
   "source": [
    "meta_data[\"pnp\"] = meta_data[\"pnp\"].astype(float)"
   ]
  },
  {
   "cell_type": "code",
   "execution_count": 33,
   "metadata": {},
   "outputs": [],
   "source": [
    "meta_data.columns  = [\"R\",\"D\", \"X\", \"Y\", \"H\"]"
   ]
  },
  {
   "cell_type": "code",
   "execution_count": 34,
   "metadata": {},
   "outputs": [],
   "source": [
    "# coordinate parsing\n",
    "for ind, line in meta_data.iterrows():\n",
    "    try:\n",
    "        meta_data.loc[ind, [\"X\", \"Y\"]] = utm.to_latlon(\n",
    "                int(line[\"X\"]), int(line[\"Y\"]), 32, \"U\"\n",
    "            )\n",
    "    except:\n",
    "        print(ind)"
   ]
  },
  {
   "cell_type": "code",
   "execution_count": 35,
   "metadata": {},
   "outputs": [],
   "source": [
    "meta_data[\"QD\"] = -1\n",
    "meta_data[\"QH\"] = -1\n",
    "meta_data[\"QX\"] = -1\n",
    "meta_data[\"QY\"] = -1\n",
    "meta_data[\"QR\"] = -1"
   ]
  },
  {
   "cell_type": "code",
   "execution_count": 36,
   "metadata": {},
   "outputs": [],
   "source": [
    "meta_data.loc[~(meta_data[\"X\"].isnull()), \"QX\"] = 0\n",
    "meta_data.loc[~(meta_data[\"Y\"].isnull()), \"QY\"] = 0\n",
    "meta_data.loc[~(meta_data[\"D\"].isnull()), \"QD\"] = 0\n",
    "meta_data.loc[~(meta_data[\"R\"].isnull()), \"QR\"] = 0\n",
    "meta_data.loc[~(meta_data[\"H\"].isnull()), \"QH\"] = 0"
   ]
  },
  {
   "cell_type": "code",
   "execution_count": 37,
   "metadata": {},
   "outputs": [],
   "source": [
    "meta_data.to_csv(output_path + \"/saxony_anhalt_meta_data.csv\")"
   ]
  },
  {
   "cell_type": "code",
   "execution_count": 38,
   "metadata": {},
   "outputs": [],
   "source": [
    "df_final.to_csv(output_path + \"saxony_anhalt_processed.csv\")"
   ]
  }
 ],
 "metadata": {
  "kernelspec": {
   "display_name": "causal_rivers_construction",
   "language": "python",
   "name": "python3"
  },
  "language_info": {
   "codemirror_mode": {
    "name": "ipython",
    "version": 3
   },
   "file_extension": ".py",
   "mimetype": "text/x-python",
   "name": "python",
   "nbconvert_exporter": "python",
   "pygments_lexer": "ipython3",
   "version": "3.13.0"
  },
  "orig_nbformat": 4
 },
 "nbformat": 4,
 "nbformat_minor": 2
}
