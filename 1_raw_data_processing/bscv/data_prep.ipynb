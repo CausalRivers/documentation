{
 "cells": [
  {
   "cell_type": "code",
   "execution_count": 3,
   "metadata": {},
   "outputs": [],
   "source": [
    "import pandas as pd\n",
    "import numpy as np\n",
    "import functools as ft\n",
    "from os import listdir\n",
    "from os.path import isfile, join\n",
    "import chardet\n",
    "import utm\n",
    "import functools as ft\n",
    "\n",
    "import sys\n",
    "\n",
    "sys.path.append(\"..\")\n",
    "from tools import data_path, output_path, cache_path"
   ]
  },
  {
   "cell_type": "markdown",
   "metadata": {},
   "source": [
    "### Data origin: \n",
    "Data was privately provided by authorities. Not reproducible without original data."
   ]
  },
  {
   "cell_type": "code",
   "execution_count": 4,
   "metadata": {},
   "outputs": [],
   "source": [
    "mypath = data_path + \"bscv/Abfluss Elbe Saale Oder/Abfluss Elbe Saale Oder/Elbe Oder Saale\"\n",
    "onlyfiles = [mypath +\"/\" + f for f in listdir(mypath) if isfile(join(mypath, f))]"
   ]
  },
  {
   "cell_type": "code",
   "execution_count": 4,
   "metadata": {},
   "outputs": [],
   "source": [
    "# # Step 2: Read CSV File in Binary Mode\n",
    "# with open(onlyfiles[0], 'rb') as f:\n",
    "#     data = f.read()\n",
    " \n",
    "# # Step 3: Detect Encoding using chardet Library\n",
    "# encoding_result = chardet.detect(data)\n",
    "#encoding_result"
   ]
  },
  {
   "cell_type": "code",
   "execution_count": 5,
   "metadata": {},
   "outputs": [],
   "source": [
    "data_stack = []\n",
    "meta_stack = []\n",
    "for x in onlyfiles:\n",
    "    data_stack.append(pd.read_csv(x, encoding=\"ISO-8859-9\", sep=';', skiprows=13))\n",
    "    meta_stack.append(pd.read_csv(x, encoding=\"ISO-8859-9\", sep=';', on_bad_lines=\"skip\"))"
   ]
  },
  {
   "cell_type": "code",
   "execution_count": 6,
   "metadata": {},
   "outputs": [],
   "source": [
    "meta = pd.concat([x[x.columns[1]] for x in meta_stack],axis=1)\n",
    "meta.index = meta_stack[0].values[:,0]"
   ]
  },
  {
   "cell_type": "code",
   "execution_count": 7,
   "metadata": {},
   "outputs": [
    {
     "data": {
      "text/plain": [
       "570910"
      ]
     },
     "execution_count": 7,
     "metadata": {},
     "output_type": "execute_result"
    }
   ],
   "source": [
    "int(meta_stack[0].iloc[2].values[1])"
   ]
  },
  {
   "cell_type": "code",
   "execution_count": 8,
   "metadata": {},
   "outputs": [],
   "source": [
    "stack = []\n",
    "for n,x in enumerate(data_stack):\n",
    "\n",
    "    a= pd.to_datetime(x[\"Datum\"] + \" \" + x[\"Uhrzeit\"], format=\"%d.%m.%Y %H:%M:%S\")\n",
    "    b = x[\"Durchfluss [m³/s]\"]\n",
    "    c = pd.concat([a,b],axis=1)\n",
    "    c.columns = [\"Datetime\", meta_stack[n].iloc[2].values[1] + \"_bscv\"]\n",
    "    stack.append(c)"
   ]
  },
  {
   "cell_type": "code",
   "execution_count": 9,
   "metadata": {},
   "outputs": [],
   "source": [
    "df_final = ft.reduce(lambda left, right: pd.merge(left, right, on='Datetime'), stack)"
   ]
  },
  {
   "cell_type": "code",
   "execution_count": 10,
   "metadata": {},
   "outputs": [],
   "source": [
    "df_final.index = df_final[\"Datetime\"]\n",
    "df_final.drop(columns=\"Datetime\", inplace=True)"
   ]
  },
  {
   "cell_type": "markdown",
   "metadata": {},
   "source": [
    "### Bring meta into format"
   ]
  },
  {
   "cell_type": "code",
   "execution_count": 11,
   "metadata": {},
   "outputs": [],
   "source": [
    "meta = meta.T.reset_index()"
   ]
  },
  {
   "cell_type": "code",
   "execution_count": 12,
   "metadata": {},
   "outputs": [],
   "source": [
    "save_index = meta[\"Stationsnummer:\"].values.astype(int)"
   ]
  },
  {
   "cell_type": "code",
   "execution_count": 13,
   "metadata": {},
   "outputs": [],
   "source": [
    "meta[\"Lage UTM East:\"] = meta[\"Lage UTM East:\"].str.replace(\",\", \".\").astype(float)\n",
    "meta[\"Lage UTM North:\"] = meta[\"Lage UTM North:\"].str.replace(\",\", \".\").astype(float)"
   ]
  },
  {
   "cell_type": "code",
   "execution_count": 14,
   "metadata": {},
   "outputs": [],
   "source": [
    "# there is some issue with the coordinates.\n",
    "#According to wikipedia, the point lies 1km south of hohenstaaten. When keeping the North value the east value should be something like: 442148.512\n",
    "# Same goes for Eisenhüttenstadt when keeping the value\n",
    "#https://de.wikipedia.org/wiki/Pegel_Hohensaaten-Finow"
   ]
  },
  {
   "cell_type": "code",
   "execution_count": 15,
   "metadata": {},
   "outputs": [],
   "source": [
    "meta.loc[6, \"Lage UTM East:\"] = 442148.512\n",
    "meta.loc[16, \"Lage UTM East:\"] = 479828.724"
   ]
  },
  {
   "cell_type": "code",
   "execution_count": 16,
   "metadata": {},
   "outputs": [
    {
     "data": {
      "text/plain": [
       "('603080', '603000')"
      ]
     },
     "execution_count": 16,
     "metadata": {},
     "output_type": "execute_result"
    }
   ],
   "source": [
    "meta.loc[6][\"Stationsnummer:\"],meta.loc[16][\"Stationsnummer:\"]"
   ]
  },
  {
   "cell_type": "code",
   "execution_count": 17,
   "metadata": {},
   "outputs": [],
   "source": [
    "# coordinates\n",
    "# thuringia parsing\n",
    "for ind, line in meta.iterrows():\n",
    "    meta.loc[ind, [\"Lage UTM East:\", \"Lage UTM North:\"]] = utm.to_latlon(\n",
    "        line[\"Lage UTM East:\"], line[\"Lage UTM North:\"], 33, \"U\"\n",
    "    )"
   ]
  },
  {
   "cell_type": "code",
   "execution_count": 18,
   "metadata": {},
   "outputs": [],
   "source": [
    "meta = meta[[\"Gewässer:\",\"Lage UTM East:\",\t\"Lage UTM North:\", \"PNP aktuell [m ü. NHN]:\"]]\n",
    "meta.columns = [\"R\", \"X\", \"Y\", \"H\"]\n",
    "meta[\"D\"] = np.nan"
   ]
  },
  {
   "cell_type": "code",
   "execution_count": 19,
   "metadata": {},
   "outputs": [],
   "source": [
    "meta = meta[[\"R\", \"X\", \"Y\",\"D\", \"H\"]]"
   ]
  },
  {
   "cell_type": "code",
   "execution_count": 20,
   "metadata": {},
   "outputs": [],
   "source": [
    "meta[\"H\"] = (\n",
    "    meta[\"H\"]\n",
    "    .astype(str)\n",
    "    .str.replace(\" (DE_DHHN2016_NH)\", \"\", regex=False)\n",
    "    .str.replace(\",\", \".\")\n",
    "    .astype(float)\n",
    ")"
   ]
  },
  {
   "cell_type": "code",
   "execution_count": 21,
   "metadata": {},
   "outputs": [],
   "source": [
    "meta.index = save_index\n",
    "meta.index.name = \"ID\"\n",
    "bscv = meta"
   ]
  },
  {
   "cell_type": "code",
   "execution_count": 22,
   "metadata": {},
   "outputs": [],
   "source": [
    "# Another correction\n",
    "bscv.loc[5930010, \"Y\"] = 10.933847444656037"
   ]
  },
  {
   "cell_type": "code",
   "execution_count": 23,
   "metadata": {},
   "outputs": [],
   "source": [
    "bscv[\"QD\"] = -1\n",
    "bscv[\"QH\"] = 0\n",
    "bscv[\"QX\"] = 0\n",
    "bscv[\"QY\"] = 0\n",
    "bscv[\"QR\"] = 0"
   ]
  },
  {
   "cell_type": "code",
   "execution_count": 24,
   "metadata": {},
   "outputs": [],
   "source": [
    "bscv.loc[5930010, \"QY\"] = 1\n",
    "bscv.loc[603080, \"QX\"] = 1\n",
    "bscv.loc[603000, \"QX\"] = 1"
   ]
  },
  {
   "cell_type": "code",
   "execution_count": 25,
   "metadata": {},
   "outputs": [
    {
     "name": "stdout",
     "output_type": "stream",
     "text": [
      "502350_bscv\n",
      "502210_bscv\n",
      "502070_bscv\n",
      "603080_bscv\n",
      "503050_bscv\n",
      "5930010_bscv\n",
      "502180_bscv\n",
      "502010_bscv\n"
     ]
    }
   ],
   "source": [
    "df_final.loc[df_final[\"570810_bscv\"] == \"---\",\"570810_bscv\"] = None\n",
    "for x in df_final.columns:\n",
    "    try:\n",
    "        df_final[x] = df_final[x].str.replace(\",\", \".\")\n",
    "    except:\n",
    "        print(x)"
   ]
  },
  {
   "cell_type": "code",
   "execution_count": 26,
   "metadata": {},
   "outputs": [],
   "source": [
    "df_final.astype(float).to_csv(output_path + \"/bscv_processed.csv\")\n",
    "bscv.to_csv(output_path + \"/bscv_meta_data.csv\")"
   ]
  }
 ],
 "metadata": {
  "kernelspec": {
   "display_name": "causal_rivers_construction",
   "language": "python",
   "name": "python3"
  },
  "language_info": {
   "codemirror_mode": {
    "name": "ipython",
    "version": 3
   },
   "file_extension": ".py",
   "mimetype": "text/x-python",
   "name": "python",
   "nbconvert_exporter": "python",
   "pygments_lexer": "ipython3",
   "version": "3.13.0"
  }
 },
 "nbformat": 4,
 "nbformat_minor": 2
}
