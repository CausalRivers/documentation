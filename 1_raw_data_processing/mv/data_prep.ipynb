{
 "cells": [
  {
   "cell_type": "code",
   "execution_count": 1,
   "metadata": {},
   "outputs": [],
   "source": [
    "import pandas as pd\n",
    "from functools import reduce\n",
    "import numpy as np\n",
    "from tika import parser\n",
    "import requests\n",
    "import utm\n",
    "\n",
    "\n",
    "import sys\n",
    "\n",
    "sys.path.append(\"..\")\n",
    "from tools import data_path, output_path, cache_path"
   ]
  },
  {
   "cell_type": "markdown",
   "metadata": {},
   "source": [
    "### Data origin: \n",
    "\n",
    "- Data was privately provided by authorities. \n",
    "- Not reproducible without original data.\n",
    "- This is going to be a wild one :) 6 different formats.\n",
    "- Useful: chardet.detect(f)"
   ]
  },
  {
   "cell_type": "code",
   "execution_count": 2,
   "metadata": {},
   "outputs": [],
   "source": [
    "path = data_path + \"/mv/vision_group_jena(1)/\""
   ]
  },
  {
   "cell_type": "code",
   "execution_count": 3,
   "metadata": {},
   "outputs": [],
   "source": [
    "from os import listdir\n",
    "from os.path import isfile, join\n",
    "mypath = path\n",
    "onlyfiles = [mypath + f for f in listdir(mypath) if not isfile(join(mypath, f))]"
   ]
  },
  {
   "cell_type": "code",
   "execution_count": 4,
   "metadata": {},
   "outputs": [],
   "source": [
    "def format_1(which, column_names = [\"ID\", \"?\", \"date\", \"time\", \"value\"], encoding=None, remove_quotation= True):\n",
    "    # open and parse to df    \n",
    "    print(which)\n",
    "    print(column_names)\n",
    "    if not encoding:\n",
    "        f = open(which, \"r\")\n",
    "    else:\n",
    "        f = open(which, \"r\", encoding = encoding)\n",
    "\n",
    "    f = f.read()\n",
    "    f = f.split(\"\\n\")\n",
    "    f = [x.split(\";\") for x in f]\n",
    "    f = pd.DataFrame(f[:-1])\n",
    "    f.columns = column_names\n",
    "    # Check\n",
    "    #check if the columns have unique ids and values\n",
    "    assert len(f[\"?\"].unique()) == 1, \"Issue, nonunique\" \n",
    "    assert len(f[\"ID\"].unique()) == 1, \"Issue nonunique\"\n",
    "    #reformat values to float and convert timestamps to ds\n",
    "    f.drop(index=f[f[\"value\"] == \"---\"].index, inplace=True)\n",
    "    f[f[\"ID\"][0]] = f[\"value\"].str.replace(\",\",\".\").astype(float)\n",
    "    if remove_quotation:\n",
    "        f.index = pd.to_datetime(f[\"date\"].astype(str).str[1:-1] + \" \" + f[\"time\"].astype(str).str[1:-1], format=\"%d.%m.%Y %H:%M:%S\")\n",
    "    else:\n",
    "        if \"time\" in f.columns:\n",
    "            f.index = pd.to_datetime(f[\"date\"].astype(str) + \" \" + f[\"time\"].astype(str), format=\"%d.%m.%Y %H:%M:%S\")\n",
    "        else:\n",
    "            f.index = pd.to_datetime(f[\"date\"].astype(str) , format=\"%d.%m.%Y\")\n",
    "    f = f[[f[\"ID\"][0]]]\n",
    "    return f\n"
   ]
  },
  {
   "cell_type": "code",
   "execution_count": 5,
   "metadata": {},
   "outputs": [],
   "source": [
    "def format_2(which):\n",
    "    print(which)\n",
    "    name = pd.read_excel(which, nrows=1).columns[0]\n",
    "    f = pd.read_excel(which, header=2)\n",
    "    for x in range(16):\n",
    "        f.loc[f[\"Q in m³/s\"] == \"[\" + str(x) + \"]\", \"Q in m³/s\"] = np.nan\n",
    "    if \"Datum \" in f.columns:\n",
    "        f.index = pd.to_datetime(f[\"Datum \"].astype(str) + \" \" + f[\"Uhrzeit\"].astype(str),  format=\"%d.%m.%Y %H:%M:%S\")\n",
    "    else:\n",
    "        f.index = pd.to_datetime(f[\"Datum\"].astype(str) + \" \" + f[\"Uhrzeit\"].astype(str),  format=\"%d.%m.%Y %H:%M:%S\")\n",
    "\n",
    "    f[name] = f[\"Q in m³/s\"].astype(float)\n",
    "    return f[[name]]"
   ]
  },
  {
   "cell_type": "code",
   "execution_count": 6,
   "metadata": {},
   "outputs": [],
   "source": [
    "def format_3(which):\n",
    "    print(which)\n",
    "    f = pd.read_csv(which, sep=\";\", header=None, skiprows=1 if \"Wehrland\" in which else 0)\n",
    "    f.index = pd.to_datetime(f[0].astype(str) + \" \" + f[1],format= \"%Y%m%d %H:%M:%S\" )\n",
    "    f = f[[2]]\n",
    "    f.columns = [which.split(\"/\")[-1].split(\"_\")[0]]\n",
    "    return f"
   ]
  },
  {
   "cell_type": "code",
   "execution_count": 7,
   "metadata": {},
   "outputs": [],
   "source": [
    "def format_4(which, column_names = [\"date\", \"time\", \"value\", \"?\"], encoding=\"ISO-8859-1\"):\n",
    "    # open and parse to df    \n",
    "    print(which)\n",
    "    if not encoding:\n",
    "        f = open(which, \"r\")\n",
    "    else:\n",
    "        f = open(which, \"r\", encoding = encoding)\n",
    "    f = f.read()\n",
    "    f = f.split(\"\\n\")\n",
    "    f = [x.split(\"\\t\") for x in f]\n",
    "    f = pd.DataFrame(f[:-1])\n",
    "    f.columns = column_names\n",
    "    # Check\n",
    "    #check if the columns have unique ids and values\n",
    "    assert len(f[\"?\"].unique()) == 1, \"Issue, nonunique\" \n",
    "    #reformat values to float and convert timestamps to ds\n",
    "    f.drop(index=f[f[\"value\"] == \"---\"].index, inplace=True)\n",
    "    f[which.split(\"/\")[-1][2:-4]] = f[\"value\"].str.replace(\",\",\".\").astype(float)\n",
    "    f.index = pd.to_datetime(f[\"date\"].astype(str) + \" \" + f[\"time\"].astype(str), format=\"%d.%m.%Y %H:%M\")\n",
    "    f = f.drop(columns=[\"date\", \"time\", \"?\", \"value\"])\n",
    "    return f"
   ]
  },
  {
   "cell_type": "code",
   "execution_count": 8,
   "metadata": {},
   "outputs": [
    {
     "name": "stdout",
     "output_type": "stream",
     "text": [
      "/home/datasets4/stein/rivers/raw_data//mv/vision_group_jena(1)/StALU MS/Zuarbeit StALU MS/Klempenow_Q_2019-2024.txt\n",
      "['ID', '?', 'date', 'time', 'value']\n"
     ]
    },
    {
     "name": "stderr",
     "output_type": "stream",
     "text": [
      "/tmp/ipykernel_241635/2475564141.py:29: FutureWarning: Series.__getitem__ treating keys as positions is deprecated. In a future version, integer keys will always be treated as labels (consistent with DataFrame behavior). To access a value by position, use `ser.iloc[pos]`\n",
      "  f = f[[f[\"ID\"][0]]]\n"
     ]
    },
    {
     "name": "stdout",
     "output_type": "stream",
     "text": [
      "/home/datasets4/stein/rivers/raw_data//mv/vision_group_jena(1)/StALU MS/Zuarbeit StALU MS/Brohm_Q_OP_2019-2024.txt\n",
      "['ID', '?', 'date', 'time', 'value']\n"
     ]
    },
    {
     "name": "stderr",
     "output_type": "stream",
     "text": [
      "/tmp/ipykernel_241635/2475564141.py:29: FutureWarning: Series.__getitem__ treating keys as positions is deprecated. In a future version, integer keys will always be treated as labels (consistent with DataFrame behavior). To access a value by position, use `ser.iloc[pos]`\n",
      "  f = f[[f[\"ID\"][0]]]\n"
     ]
    },
    {
     "name": "stdout",
     "output_type": "stream",
     "text": [
      "/home/datasets4/stein/rivers/raw_data//mv/vision_group_jena(1)/StALU MS/Zuarbeit StALU MS/Burg-Stargard_ Q_2019-2024.txt\n",
      "['ID', '?', 'date', 'time', 'value']\n"
     ]
    },
    {
     "name": "stderr",
     "output_type": "stream",
     "text": [
      "/tmp/ipykernel_241635/2475564141.py:29: FutureWarning: Series.__getitem__ treating keys as positions is deprecated. In a future version, integer keys will always be treated as labels (consistent with DataFrame behavior). To access a value by position, use `ser.iloc[pos]`\n",
      "  f = f[[f[\"ID\"][0]]]\n"
     ]
    },
    {
     "name": "stdout",
     "output_type": "stream",
     "text": [
      "/home/datasets4/stein/rivers/raw_data//mv/vision_group_jena(1)/StALU MS/Zuarbeit StALU MS/Demmin_Q_2019-2024.txt\n",
      "['ID', '?', 'date', 'time', 'value']\n"
     ]
    },
    {
     "name": "stderr",
     "output_type": "stream",
     "text": [
      "/tmp/ipykernel_241635/2475564141.py:29: FutureWarning: Series.__getitem__ treating keys as positions is deprecated. In a future version, integer keys will always be treated as labels (consistent with DataFrame behavior). To access a value by position, use `ser.iloc[pos]`\n",
      "  f = f[[f[\"ID\"][0]]]\n"
     ]
    },
    {
     "name": "stdout",
     "output_type": "stream",
     "text": [
      "/home/datasets4/stein/rivers/raw_data//mv/vision_group_jena(1)/StALU MS/Zuarbeit StALU MS/Buchholz_Q_2019-2024.txt\n",
      "['ID', '?', 'date', 'time', 'value']\n"
     ]
    },
    {
     "name": "stderr",
     "output_type": "stream",
     "text": [
      "/tmp/ipykernel_241635/2475564141.py:29: FutureWarning: Series.__getitem__ treating keys as positions is deprecated. In a future version, integer keys will always be treated as labels (consistent with DataFrame behavior). To access a value by position, use `ser.iloc[pos]`\n",
      "  f = f[[f[\"ID\"][0]]]\n"
     ]
    },
    {
     "name": "stdout",
     "output_type": "stream",
     "text": [
      "/home/datasets4/stein/rivers/raw_data//mv/vision_group_jena(1)/StALU MS/Zuarbeit StALU MS/Neukalen_Q_2019-2024.txt\n",
      "['ID', '?', 'date', 'time', 'value']\n"
     ]
    },
    {
     "name": "stderr",
     "output_type": "stream",
     "text": [
      "/tmp/ipykernel_241635/2475564141.py:29: FutureWarning: Series.__getitem__ treating keys as positions is deprecated. In a future version, integer keys will always be treated as labels (consistent with DataFrame behavior). To access a value by position, use `ser.iloc[pos]`\n",
      "  f = f[[f[\"ID\"][0]]]\n"
     ]
    },
    {
     "name": "stdout",
     "output_type": "stream",
     "text": [
      "/home/datasets4/stein/rivers/raw_data//mv/vision_group_jena(1)/StALU MS/Zuarbeit StALU MS/Kittendorf_Q_2019-2024.txt\n",
      "['ID', '?', 'date', 'time', 'value']\n"
     ]
    },
    {
     "name": "stderr",
     "output_type": "stream",
     "text": [
      "/tmp/ipykernel_241635/2475564141.py:29: FutureWarning: Series.__getitem__ treating keys as positions is deprecated. In a future version, integer keys will always be treated as labels (consistent with DataFrame behavior). To access a value by position, use `ser.iloc[pos]`\n",
      "  f = f[[f[\"ID\"][0]]]\n",
      "/tmp/ipykernel_241635/4044109703.py:7: FutureWarning: 'T' is deprecated and will be removed in a future version, please use 'min' instead.\n",
      "  stack1 = stack1.resample(\"15T\").mean()\n"
     ]
    }
   ],
   "source": [
    "stack1 = listdir(onlyfiles[0] + \"/\" + listdir(onlyfiles[0])[0])\n",
    "stack1 = [onlyfiles[0] + \"/\" + listdir(onlyfiles[0])[0] + \"/\" + x for x in stack1]\n",
    "stack1 = [format_1(x)  for x in stack1]\n",
    "stack1 = reduce(lambda  left,right: pd.merge(left,right,left_index=True, right_index=True,\n",
    "                                            how='outer'), stack1)\n",
    "stack1.columns = [\"0\" + str(int(x)) for x in stack1.columns]\n",
    "stack1 = stack1.resample(\"15T\").mean()"
   ]
  },
  {
   "cell_type": "code",
   "execution_count": 9,
   "metadata": {},
   "outputs": [
    {
     "name": "stdout",
     "output_type": "stream",
     "text": [
      "/home/datasets4/stein/rivers/raw_data//mv/vision_group_jena(1)/StALU WM/Daten/59618.0_Kronskamp_Q_3_1_2.txt\n",
      "['ID', 'date', 'time', 'value', '?']\n"
     ]
    },
    {
     "name": "stderr",
     "output_type": "stream",
     "text": [
      "/tmp/ipykernel_241635/2475564141.py:29: FutureWarning: Series.__getitem__ treating keys as positions is deprecated. In a future version, integer keys will always be treated as labels (consistent with DataFrame behavior). To access a value by position, use `ser.iloc[pos]`\n",
      "  f = f[[f[\"ID\"][0]]]\n"
     ]
    },
    {
     "name": "stdout",
     "output_type": "stream",
     "text": [
      "/home/datasets4/stein/rivers/raw_data//mv/vision_group_jena(1)/StALU WM/Daten/04381.0_BarnerStück_Q_3_1_2.txt\n",
      "['ID', 'date', 'time', 'value', '?']\n"
     ]
    },
    {
     "name": "stderr",
     "output_type": "stream",
     "text": [
      "/tmp/ipykernel_241635/2475564141.py:29: FutureWarning: Series.__getitem__ treating keys as positions is deprecated. In a future version, integer keys will always be treated as labels (consistent with DataFrame behavior). To access a value by position, use `ser.iloc[pos]`\n",
      "  f = f[[f[\"ID\"][0]]]\n"
     ]
    },
    {
     "name": "stdout",
     "output_type": "stream",
     "text": [
      "/home/datasets4/stein/rivers/raw_data//mv/vision_group_jena(1)/StALU WM/Daten/59905.0_Schwartow_Q_3_1_2.txt\n",
      "['ID', 'date', 'time', 'value', '?']\n"
     ]
    },
    {
     "name": "stderr",
     "output_type": "stream",
     "text": [
      "/tmp/ipykernel_241635/2475564141.py:29: FutureWarning: Series.__getitem__ treating keys as positions is deprecated. In a future version, integer keys will always be treated as labels (consistent with DataFrame behavior). To access a value by position, use `ser.iloc[pos]`\n",
      "  f = f[[f[\"ID\"][0]]]\n"
     ]
    },
    {
     "name": "stdout",
     "output_type": "stream",
     "text": [
      "/home/datasets4/stein/rivers/raw_data//mv/vision_group_jena(1)/StALU WM/Daten/04408.1_GroßGörnow_Q_3_1_2.txt\n",
      "['ID', 'date', 'time', 'value', '?']\n"
     ]
    },
    {
     "name": "stderr",
     "output_type": "stream",
     "text": [
      "/tmp/ipykernel_241635/2475564141.py:29: FutureWarning: Series.__getitem__ treating keys as positions is deprecated. In a future version, integer keys will always be treated as labels (consistent with DataFrame behavior). To access a value by position, use `ser.iloc[pos]`\n",
      "  f = f[[f[\"ID\"][0]]]\n"
     ]
    },
    {
     "name": "stdout",
     "output_type": "stream",
     "text": [
      "/home/datasets4/stein/rivers/raw_data//mv/vision_group_jena(1)/StALU WM/Daten/59589.0_Krinitz_Q_3_1_2.txt\n",
      "['ID', 'date', 'time', 'value', '?']\n"
     ]
    },
    {
     "name": "stderr",
     "output_type": "stream",
     "text": [
      "/tmp/ipykernel_241635/2475564141.py:29: FutureWarning: Series.__getitem__ treating keys as positions is deprecated. In a future version, integer keys will always be treated as labels (consistent with DataFrame behavior). To access a value by position, use `ser.iloc[pos]`\n",
      "  f = f[[f[\"ID\"][0]]]\n"
     ]
    },
    {
     "name": "stdout",
     "output_type": "stream",
     "text": [
      "/home/datasets4/stein/rivers/raw_data//mv/vision_group_jena(1)/StALU WM/Daten/04490.0_Sülten_Q_3_1_2.txt\n",
      "['ID', 'date', 'time', 'value', '?']\n"
     ]
    },
    {
     "name": "stderr",
     "output_type": "stream",
     "text": [
      "/tmp/ipykernel_241635/2475564141.py:29: FutureWarning: Series.__getitem__ treating keys as positions is deprecated. In a future version, integer keys will always be treated as labels (consistent with DataFrame behavior). To access a value by position, use `ser.iloc[pos]`\n",
      "  f = f[[f[\"ID\"][0]]]\n"
     ]
    },
    {
     "name": "stdout",
     "output_type": "stream",
     "text": [
      "/home/datasets4/stein/rivers/raw_data//mv/vision_group_jena(1)/StALU WM/Daten/04465.0_SternbergerBurg_Q_3_1_2.txt\n",
      "['ID', 'date', 'time', 'value', '?']\n"
     ]
    },
    {
     "name": "stderr",
     "output_type": "stream",
     "text": [
      "/tmp/ipykernel_241635/2475564141.py:29: FutureWarning: Series.__getitem__ treating keys as positions is deprecated. In a future version, integer keys will always be treated as labels (consistent with DataFrame behavior). To access a value by position, use `ser.iloc[pos]`\n",
      "  f = f[[f[\"ID\"][0]]]\n"
     ]
    },
    {
     "name": "stdout",
     "output_type": "stream",
     "text": [
      "/home/datasets4/stein/rivers/raw_data//mv/vision_group_jena(1)/StALU WM/Daten/04373.0_Rothentor_Q_3_1_2.txt\n",
      "['ID', 'date', 'time', 'value', '?']\n"
     ]
    },
    {
     "name": "stderr",
     "output_type": "stream",
     "text": [
      "/tmp/ipykernel_241635/2475564141.py:29: FutureWarning: Series.__getitem__ treating keys as positions is deprecated. In a future version, integer keys will always be treated as labels (consistent with DataFrame behavior). To access a value by position, use `ser.iloc[pos]`\n",
      "  f = f[[f[\"ID\"][0]]]\n"
     ]
    },
    {
     "name": "stdout",
     "output_type": "stream",
     "text": [
      "/home/datasets4/stein/rivers/raw_data//mv/vision_group_jena(1)/StALU WM/Daten/59910.5_Nostorf_Q_3_1_2.txt\n",
      "['ID', 'date', 'time', 'value', '?']\n"
     ]
    },
    {
     "name": "stderr",
     "output_type": "stream",
     "text": [
      "/tmp/ipykernel_241635/2475564141.py:29: FutureWarning: Series.__getitem__ treating keys as positions is deprecated. In a future version, integer keys will always be treated as labels (consistent with DataFrame behavior). To access a value by position, use `ser.iloc[pos]`\n",
      "  f = f[[f[\"ID\"][0]]]\n"
     ]
    },
    {
     "name": "stdout",
     "output_type": "stream",
     "text": [
      "/home/datasets4/stein/rivers/raw_data//mv/vision_group_jena(1)/StALU WM/Daten/04360.0_Eulenkrug_Q_3_1_2.txt\n",
      "['ID', 'date', 'time', 'value', '?']\n"
     ]
    },
    {
     "name": "stderr",
     "output_type": "stream",
     "text": [
      "/tmp/ipykernel_241635/2475564141.py:29: FutureWarning: Series.__getitem__ treating keys as positions is deprecated. In a future version, integer keys will always be treated as labels (consistent with DataFrame behavior). To access a value by position, use `ser.iloc[pos]`\n",
      "  f = f[[f[\"ID\"][0]]]\n"
     ]
    },
    {
     "name": "stdout",
     "output_type": "stream",
     "text": [
      "/home/datasets4/stein/rivers/raw_data//mv/vision_group_jena(1)/StALU WM/Daten/59848.0_KleinBengerstorf_Q_3_1_2.txt\n",
      "['ID', 'date', 'time', 'value', '?']\n"
     ]
    },
    {
     "name": "stderr",
     "output_type": "stream",
     "text": [
      "/tmp/ipykernel_241635/2475564141.py:29: FutureWarning: Series.__getitem__ treating keys as positions is deprecated. In a future version, integer keys will always be treated as labels (consistent with DataFrame behavior). To access a value by position, use `ser.iloc[pos]`\n",
      "  f = f[[f[\"ID\"][0]]]\n"
     ]
    },
    {
     "name": "stdout",
     "output_type": "stream",
     "text": [
      "/home/datasets4/stein/rivers/raw_data//mv/vision_group_jena(1)/StALU WM/Daten/59649.0_KleinPankow_Q_3_1_2.txt\n",
      "['ID', 'date', 'time', 'value', '?']\n"
     ]
    },
    {
     "name": "stderr",
     "output_type": "stream",
     "text": [
      "/tmp/ipykernel_241635/2475564141.py:29: FutureWarning: Series.__getitem__ treating keys as positions is deprecated. In a future version, integer keys will always be treated as labels (consistent with DataFrame behavior). To access a value by position, use `ser.iloc[pos]`\n",
      "  f = f[[f[\"ID\"][0]]]\n"
     ]
    },
    {
     "name": "stdout",
     "output_type": "stream",
     "text": [
      "/home/datasets4/stein/rivers/raw_data//mv/vision_group_jena(1)/StALU WM/Daten/04342.0_Questin_Q_3_1_2.txt\n",
      "['ID', 'date', 'time', 'value', '?']\n"
     ]
    },
    {
     "name": "stderr",
     "output_type": "stream",
     "text": [
      "/tmp/ipykernel_241635/2475564141.py:29: FutureWarning: Series.__getitem__ treating keys as positions is deprecated. In a future version, integer keys will always be treated as labels (consistent with DataFrame behavior). To access a value by position, use `ser.iloc[pos]`\n",
      "  f = f[[f[\"ID\"][0]]]\n"
     ]
    },
    {
     "name": "stdout",
     "output_type": "stream",
     "text": [
      "/home/datasets4/stein/rivers/raw_data//mv/vision_group_jena(1)/StALU WM/Daten/04343.0_Diedrichshagen_Q_3_1_2.txt\n",
      "['ID', 'date', 'time', 'value', '?']\n"
     ]
    },
    {
     "name": "stderr",
     "output_type": "stream",
     "text": [
      "/tmp/ipykernel_241635/2475564141.py:29: FutureWarning: Series.__getitem__ treating keys as positions is deprecated. In a future version, integer keys will always be treated as labels (consistent with DataFrame behavior). To access a value by position, use `ser.iloc[pos]`\n",
      "  f = f[[f[\"ID\"][0]]]\n"
     ]
    },
    {
     "name": "stdout",
     "output_type": "stream",
     "text": [
      "/home/datasets4/stein/rivers/raw_data//mv/vision_group_jena(1)/StALU WM/Daten/04373.0_HohenViecheln_Q_3_1_2.txt\n",
      "['ID', 'date', 'time', 'value', '?']\n"
     ]
    },
    {
     "name": "stderr",
     "output_type": "stream",
     "text": [
      "/tmp/ipykernel_241635/2475564141.py:29: FutureWarning: Series.__getitem__ treating keys as positions is deprecated. In a future version, integer keys will always be treated as labels (consistent with DataFrame behavior). To access a value by position, use `ser.iloc[pos]`\n",
      "  f = f[[f[\"ID\"][0]]]\n"
     ]
    },
    {
     "name": "stdout",
     "output_type": "stream",
     "text": [
      "/home/datasets4/stein/rivers/raw_data//mv/vision_group_jena(1)/StALU WM/Daten/04350.0_Törber_Q_3_1_2.txt\n",
      "['ID', 'date', 'time', 'value', '?']\n"
     ]
    },
    {
     "name": "stderr",
     "output_type": "stream",
     "text": [
      "/tmp/ipykernel_241635/2475564141.py:29: FutureWarning: Series.__getitem__ treating keys as positions is deprecated. In a future version, integer keys will always be treated as labels (consistent with DataFrame behavior). To access a value by position, use `ser.iloc[pos]`\n",
      "  f = f[[f[\"ID\"][0]]]\n"
     ]
    },
    {
     "name": "stdout",
     "output_type": "stream",
     "text": [
      "/home/datasets4/stein/rivers/raw_data//mv/vision_group_jena(1)/StALU WM/Daten/59645.5_Siggelkow_Q_3_1_2.txt\n",
      "['ID', 'date', 'time', 'value', '?']\n"
     ]
    },
    {
     "name": "stderr",
     "output_type": "stream",
     "text": [
      "/tmp/ipykernel_241635/2475564141.py:29: FutureWarning: Series.__getitem__ treating keys as positions is deprecated. In a future version, integer keys will always be treated as labels (consistent with DataFrame behavior). To access a value by position, use `ser.iloc[pos]`\n",
      "  f = f[[f[\"ID\"][0]]]\n"
     ]
    },
    {
     "name": "stdout",
     "output_type": "stream",
     "text": [
      "/home/datasets4/stein/rivers/raw_data//mv/vision_group_jena(1)/StALU WM/Daten/59831.0_Laave_Q_3_1_2.txt\n",
      "['ID', 'date', 'time', 'value', '?']\n"
     ]
    },
    {
     "name": "stderr",
     "output_type": "stream",
     "text": [
      "/tmp/ipykernel_241635/2475564141.py:29: FutureWarning: Series.__getitem__ treating keys as positions is deprecated. In a future version, integer keys will always be treated as labels (consistent with DataFrame behavior). To access a value by position, use `ser.iloc[pos]`\n",
      "  f = f[[f[\"ID\"][0]]]\n"
     ]
    },
    {
     "name": "stdout",
     "output_type": "stream",
     "text": [
      "/home/datasets4/stein/rivers/raw_data//mv/vision_group_jena(1)/StALU WM/Daten/59810.0_Garlitz_Q_3_1_2.txt\n",
      "['ID', 'date', 'time', 'value', '?']\n"
     ]
    },
    {
     "name": "stderr",
     "output_type": "stream",
     "text": [
      "/tmp/ipykernel_241635/2475564141.py:29: FutureWarning: Series.__getitem__ treating keys as positions is deprecated. In a future version, integer keys will always be treated as labels (consistent with DataFrame behavior). To access a value by position, use `ser.iloc[pos]`\n",
      "  f = f[[f[\"ID\"][0]]]\n"
     ]
    },
    {
     "name": "stdout",
     "output_type": "stream",
     "text": [
      "/home/datasets4/stein/rivers/raw_data//mv/vision_group_jena(1)/StALU WM/Daten/59805.1_Radelübbe_Q_3_1_2.txt\n",
      "['ID', 'date', 'time', 'value', '?']\n"
     ]
    },
    {
     "name": "stderr",
     "output_type": "stream",
     "text": [
      "/tmp/ipykernel_241635/2475564141.py:29: FutureWarning: Series.__getitem__ treating keys as positions is deprecated. In a future version, integer keys will always be treated as labels (consistent with DataFrame behavior). To access a value by position, use `ser.iloc[pos]`\n",
      "  f = f[[f[\"ID\"][0]]]\n"
     ]
    },
    {
     "name": "stdout",
     "output_type": "stream",
     "text": [
      "/home/datasets4/stein/rivers/raw_data//mv/vision_group_jena(1)/StALU WM/Daten/04478.0_Goldberg_Q_3_1_2.txt\n",
      "['ID', 'date', 'time', 'value', '?']\n"
     ]
    },
    {
     "name": "stderr",
     "output_type": "stream",
     "text": [
      "/tmp/ipykernel_241635/2475564141.py:29: FutureWarning: Series.__getitem__ treating keys as positions is deprecated. In a future version, integer keys will always be treated as labels (consistent with DataFrame behavior). To access a value by position, use `ser.iloc[pos]`\n",
      "  f = f[[f[\"ID\"][0]]]\n"
     ]
    },
    {
     "name": "stdout",
     "output_type": "stream",
     "text": [
      "/home/datasets4/stein/rivers/raw_data//mv/vision_group_jena(1)/StALU WM/Daten/59846.0_Kölzin_Q_3_1_2.txt\n",
      "['ID', 'date', 'time', 'value', '?']\n"
     ]
    },
    {
     "name": "stderr",
     "output_type": "stream",
     "text": [
      "/tmp/ipykernel_241635/2475564141.py:29: FutureWarning: Series.__getitem__ treating keys as positions is deprecated. In a future version, integer keys will always be treated as labels (consistent with DataFrame behavior). To access a value by position, use `ser.iloc[pos]`\n",
      "  f = f[[f[\"ID\"][0]]]\n"
     ]
    },
    {
     "name": "stdout",
     "output_type": "stream",
     "text": [
      "/home/datasets4/stein/rivers/raw_data//mv/vision_group_jena(1)/StALU WM/Daten/04472.0_AlteMühle_Q_3_1_2.txt\n",
      "['ID', 'date', 'time', 'value', '?']\n"
     ]
    },
    {
     "name": "stderr",
     "output_type": "stream",
     "text": [
      "/tmp/ipykernel_241635/2475564141.py:29: FutureWarning: Series.__getitem__ treating keys as positions is deprecated. In a future version, integer keys will always be treated as labels (consistent with DataFrame behavior). To access a value by position, use `ser.iloc[pos]`\n",
      "  f = f[[f[\"ID\"][0]]]\n"
     ]
    },
    {
     "name": "stdout",
     "output_type": "stream",
     "text": [
      "/home/datasets4/stein/rivers/raw_data//mv/vision_group_jena(1)/StALU WM/Daten/59859.0_Camin_Q_3_1_2.txt\n",
      "['ID', 'date', 'time', 'value', '?']\n"
     ]
    },
    {
     "name": "stderr",
     "output_type": "stream",
     "text": [
      "/tmp/ipykernel_241635/2475564141.py:29: FutureWarning: Series.__getitem__ treating keys as positions is deprecated. In a future version, integer keys will always be treated as labels (consistent with DataFrame behavior). To access a value by position, use `ser.iloc[pos]`\n",
      "  f = f[[f[\"ID\"][0]]]\n"
     ]
    },
    {
     "name": "stdout",
     "output_type": "stream",
     "text": [
      "/home/datasets4/stein/rivers/raw_data//mv/vision_group_jena(1)/StALU WM/Daten/04355.0_Wotenitz_Q_3_1_2.txt\n",
      "['ID', 'date', 'time', 'value', '?']\n"
     ]
    },
    {
     "name": "stderr",
     "output_type": "stream",
     "text": [
      "/tmp/ipykernel_241635/2475564141.py:29: FutureWarning: Series.__getitem__ treating keys as positions is deprecated. In a future version, integer keys will always be treated as labels (consistent with DataFrame behavior). To access a value by position, use `ser.iloc[pos]`\n",
      "  f = f[[f[\"ID\"][0]]]\n"
     ]
    },
    {
     "name": "stdout",
     "output_type": "stream",
     "text": [
      "/home/datasets4/stein/rivers/raw_data//mv/vision_group_jena(1)/StALU WM/Daten/04416.0_Zölkow_Q_3_1_2.txt\n",
      "['ID', 'date', 'time', 'value', '?']\n"
     ]
    },
    {
     "name": "stderr",
     "output_type": "stream",
     "text": [
      "/tmp/ipykernel_241635/2475564141.py:29: FutureWarning: Series.__getitem__ treating keys as positions is deprecated. In a future version, integer keys will always be treated as labels (consistent with DataFrame behavior). To access a value by position, use `ser.iloc[pos]`\n",
      "  f = f[[f[\"ID\"][0]]]\n"
     ]
    },
    {
     "name": "stdout",
     "output_type": "stream",
     "text": [
      "/home/datasets4/stein/rivers/raw_data//mv/vision_group_jena(1)/StALU WM/Daten/04353.0_Gadebusch_Q_3_1_2.txt\n",
      "['ID', 'date', 'time', 'value', '?']\n"
     ]
    },
    {
     "name": "stderr",
     "output_type": "stream",
     "text": [
      "/tmp/ipykernel_241635/2475564141.py:29: FutureWarning: Series.__getitem__ treating keys as positions is deprecated. In a future version, integer keys will always be treated as labels (consistent with DataFrame behavior). To access a value by position, use `ser.iloc[pos]`\n",
      "  f = f[[f[\"ID\"][0]]]\n"
     ]
    },
    {
     "name": "stdout",
     "output_type": "stream",
     "text": [
      "/home/datasets4/stein/rivers/raw_data//mv/vision_group_jena(1)/StALU WM/Daten/04343.0_Schönberg_Q_3_1_2.txt\n",
      "['ID', 'date', 'time', 'value', '?']\n"
     ]
    },
    {
     "name": "stderr",
     "output_type": "stream",
     "text": [
      "/tmp/ipykernel_241635/2475564141.py:29: FutureWarning: Series.__getitem__ treating keys as positions is deprecated. In a future version, integer keys will always be treated as labels (consistent with DataFrame behavior). To access a value by position, use `ser.iloc[pos]`\n",
      "  f = f[[f[\"ID\"][0]]]\n"
     ]
    },
    {
     "name": "stdout",
     "output_type": "stream",
     "text": [
      "/home/datasets4/stein/rivers/raw_data//mv/vision_group_jena(1)/StALU WM/Daten/04341.1_Börzow_Q_3_1_2.txt\n",
      "['ID', 'date', 'time', 'value', '?']\n"
     ]
    },
    {
     "name": "stderr",
     "output_type": "stream",
     "text": [
      "/tmp/ipykernel_241635/2475564141.py:29: FutureWarning: Series.__getitem__ treating keys as positions is deprecated. In a future version, integer keys will always be treated as labels (consistent with DataFrame behavior). To access a value by position, use `ser.iloc[pos]`\n",
      "  f = f[[f[\"ID\"][0]]]\n"
     ]
    },
    {
     "name": "stdout",
     "output_type": "stream",
     "text": [
      "/home/datasets4/stein/rivers/raw_data//mv/vision_group_jena(1)/StALU WM/Daten/59655.0_Klinken_Q_3_1_2.txt\n",
      "['ID', 'date', 'time', 'value', '?']\n"
     ]
    },
    {
     "name": "stderr",
     "output_type": "stream",
     "text": [
      "/tmp/ipykernel_241635/2475564141.py:29: FutureWarning: Series.__getitem__ treating keys as positions is deprecated. In a future version, integer keys will always be treated as labels (consistent with DataFrame behavior). To access a value by position, use `ser.iloc[pos]`\n",
      "  f = f[[f[\"ID\"][0]]]\n"
     ]
    },
    {
     "name": "stdout",
     "output_type": "stream",
     "text": [
      "/home/datasets4/stein/rivers/raw_data//mv/vision_group_jena(1)/StALU WM/Daten/04412.0_LangenBrütz_Q_3_1_2.txt\n",
      "['ID', 'date', 'time', 'value', '?']\n"
     ]
    },
    {
     "name": "stderr",
     "output_type": "stream",
     "text": [
      "/tmp/ipykernel_241635/2475564141.py:29: FutureWarning: Series.__getitem__ treating keys as positions is deprecated. In a future version, integer keys will always be treated as labels (consistent with DataFrame behavior). To access a value by position, use `ser.iloc[pos]`\n",
      "  f = f[[f[\"ID\"][0]]]\n"
     ]
    },
    {
     "name": "stdout",
     "output_type": "stream",
     "text": [
      "/home/datasets4/stein/rivers/raw_data//mv/vision_group_jena(1)/StALU WM/Daten/59500.5_Stresendorf_Q_3_1_2.txt\n",
      "['ID', 'date', 'time', 'value', '?']\n"
     ]
    },
    {
     "name": "stderr",
     "output_type": "stream",
     "text": [
      "/tmp/ipykernel_241635/2475564141.py:29: FutureWarning: Series.__getitem__ treating keys as positions is deprecated. In a future version, integer keys will always be treated as labels (consistent with DataFrame behavior). To access a value by position, use `ser.iloc[pos]`\n",
      "  f = f[[f[\"ID\"][0]]]\n"
     ]
    },
    {
     "name": "stdout",
     "output_type": "stream",
     "text": [
      "/home/datasets4/stein/rivers/raw_data//mv/vision_group_jena(1)/StALU WM/Daten/59855.0_Lehsen_Q_3_1_2.txt\n",
      "['ID', 'date', 'time', 'value', '?']\n"
     ]
    },
    {
     "name": "stderr",
     "output_type": "stream",
     "text": [
      "/tmp/ipykernel_241635/2475564141.py:29: FutureWarning: Series.__getitem__ treating keys as positions is deprecated. In a future version, integer keys will always be treated as labels (consistent with DataFrame behavior). To access a value by position, use `ser.iloc[pos]`\n",
      "  f = f[[f[\"ID\"][0]]]\n"
     ]
    },
    {
     "name": "stdout",
     "output_type": "stream",
     "text": [
      "/home/datasets4/stein/rivers/raw_data//mv/vision_group_jena(1)/StALU WM/Daten/59870.1_Hagenow_Q_3_1_2.txt\n",
      "['ID', 'date', 'time', 'value', '?']\n"
     ]
    },
    {
     "name": "stderr",
     "output_type": "stream",
     "text": [
      "/tmp/ipykernel_241635/2475564141.py:29: FutureWarning: Series.__getitem__ treating keys as positions is deprecated. In a future version, integer keys will always be treated as labels (consistent with DataFrame behavior). To access a value by position, use `ser.iloc[pos]`\n",
      "  f = f[[f[\"ID\"][0]]]\n"
     ]
    },
    {
     "name": "stdout",
     "output_type": "stream",
     "text": [
      "/home/datasets4/stein/rivers/raw_data//mv/vision_group_jena(1)/StALU WM/Daten/04413.0_Rönkenhof_Q_3_1_2.txt\n",
      "['ID', 'date', 'time', 'value', '?']\n"
     ]
    },
    {
     "name": "stderr",
     "output_type": "stream",
     "text": [
      "/tmp/ipykernel_241635/2475564141.py:29: FutureWarning: Series.__getitem__ treating keys as positions is deprecated. In a future version, integer keys will always be treated as labels (consistent with DataFrame behavior). To access a value by position, use `ser.iloc[pos]`\n",
      "  f = f[[f[\"ID\"][0]]]\n",
      "/tmp/ipykernel_241635/1457206842.py:7: FutureWarning: 'T' is deprecated and will be removed in a future version, please use 'min' instead.\n",
      "  stack2 = stack2.resample(\"15T\").mean()\n"
     ]
    }
   ],
   "source": [
    "stack2 = listdir(onlyfiles[1] + \"/\" + listdir(onlyfiles[1])[0])\n",
    "stack2 = [onlyfiles[1] + \"/\" + listdir(onlyfiles[1])[0] + \"/\" + x for x in stack2]\n",
    "stack2 = [format_1(x, column_names = [\"ID\", \"date\", \"time\", \"value\", \"?\"], encoding= \"ISO-8859-1\", remove_quotation=False)  for x in stack2]\n",
    "stack2 = reduce(lambda  left,right: pd.merge(left,right,left_index=True, right_index=True,\n",
    "                                            how='outer'), stack2)\n",
    "stack2.columns = [\"0\" + str(int(x)) for x in stack2.columns]\n",
    "stack2 = stack2.resample(\"15T\").mean()"
   ]
  },
  {
   "cell_type": "code",
   "execution_count": 10,
   "metadata": {},
   "outputs": [
    {
     "name": "stdout",
     "output_type": "stream",
     "text": [
      "/home/datasets4/stein/rivers/raw_data//mv/vision_group_jena(1)/StALU MM/2024-07-03 15Min_Teßmannsdorf_Hellbach 2019-2024.xlsx\n",
      "/home/datasets4/stein/rivers/raw_data//mv/vision_group_jena(1)/StALU MM/2024-07-03 5Min_Rostock-Geinitzbrücke_Warnow 2019-2024.xlsx\n",
      "/home/datasets4/stein/rivers/raw_data//mv/vision_group_jena(1)/StALU MM/2024-07-03 15Min_Dobbin_Nebel 2019-2024.xlsx\n",
      "/home/datasets4/stein/rivers/raw_data//mv/vision_group_jena(1)/StALU MM/2024-07-03 15Min_BützowGesamt_Warnow 2019-2024.xlsx\n",
      "/home/datasets4/stein/rivers/raw_data//mv/vision_group_jena(1)/StALU MM/2024-07-03 15Min_Tessin_Recknitz 2019-2024.xlsx\n",
      "/home/datasets4/stein/rivers/raw_data//mv/vision_group_jena(1)/StALU MM/2024-07-03 15Min_Wolken_Nebel 2019-2024.xlsx\n",
      "/home/datasets4/stein/rivers/raw_data//mv/vision_group_jena(1)/StALU MM/2024-07-03 15Min_Schwaan_Beke 2019-2024.xlsx\n"
     ]
    }
   ],
   "source": [
    "stack3 = [onlyfiles[2] +\"/\" +  x for x in listdir(onlyfiles[2])]\n",
    "stack3 = [format_2(x)  for x in stack3]\n",
    "stack3 = reduce(lambda  left,right: pd.merge(left,right,left_index=True, right_index=True,\n",
    "                                            how='outer'), stack3)"
   ]
  },
  {
   "cell_type": "code",
   "execution_count": 11,
   "metadata": {},
   "outputs": [
    {
     "name": "stderr",
     "output_type": "stream",
     "text": [
      "/tmp/ipykernel_241635/2567875862.py:4: FutureWarning: 'T' is deprecated and will be removed in a future version, please use 'min' instead.\n",
      "  stack3 = stack3.resample(\"15T\").mean()\n"
     ]
    }
   ],
   "source": [
    "# quickly check the ids via: https://pegelportal-mv.de/pegel-mv/pegel_list.html\n",
    "ids = [\"043902\", \"044022\", \"044431\",\"044051\", \"045130\",\"044290\",\"044253\"]\n",
    "stack3.columns = ids\n",
    "stack3 = stack3.resample(\"15T\").mean()"
   ]
  },
  {
   "cell_type": "code",
   "execution_count": 12,
   "metadata": {},
   "outputs": [
    {
     "name": "stdout",
     "output_type": "stream",
     "text": [
      "/home/datasets4/stein/rivers/raw_data//mv/vision_group_jena(1)/StALU VP UEM West/47015_Libnow.csv\n",
      "/home/datasets4/stein/rivers/raw_data//mv/vision_group_jena(1)/StALU VP UEM West/47023_Anklam.csv\n",
      "/home/datasets4/stein/rivers/raw_data//mv/vision_group_jena(1)/StALU VP UEM West/47402_GützkowHasenberg.csv\n",
      "/home/datasets4/stein/rivers/raw_data//mv/vision_group_jena(1)/StALU VP UEM West/46641_Lodmannshagen.csv\n",
      "/home/datasets4/stein/rivers/raw_data//mv/vision_group_jena(1)/StALU VP UEM West/46614_Hanshagen.csv\n",
      "/home/datasets4/stein/rivers/raw_data//mv/vision_group_jena(1)/StALU VP UEM West/47453_Schwinge.csv\n",
      "/home/datasets4/stein/rivers/raw_data//mv/vision_group_jena(1)/StALU VP UEM West/47352_Padderow.csv\n",
      "/home/datasets4/stein/rivers/raw_data//mv/vision_group_jena(1)/StALU VP UEM West/46660_Wehrland.csv\n"
     ]
    }
   ],
   "source": [
    "stack4 = [onlyfiles[3] +\"/\" +  x for x in listdir(onlyfiles[3])]\n",
    "stack4 = [format_3(x) for x in stack4]\n",
    "stack4 = reduce(lambda  left,right: pd.merge(left,right,left_index=True, right_index=True,\n",
    "                                            how='outer'), stack4)"
   ]
  },
  {
   "cell_type": "code",
   "execution_count": 13,
   "metadata": {},
   "outputs": [],
   "source": [
    "stack4.columns = [\"0\" + x for x in stack4.columns ]"
   ]
  },
  {
   "cell_type": "code",
   "execution_count": 14,
   "metadata": {},
   "outputs": [],
   "source": [
    "stack4 = stack4.replace(\"---/\", np.nan).astype(float)"
   ]
  },
  {
   "cell_type": "code",
   "execution_count": 15,
   "metadata": {},
   "outputs": [
    {
     "name": "stderr",
     "output_type": "stream",
     "text": [
      "/tmp/ipykernel_241635/4168897223.py:1: FutureWarning: 'T' is deprecated and will be removed in a future version, please use 'min' instead.\n",
      "  stack4 = stack4.resample(\"15T\").mean()\n"
     ]
    }
   ],
   "source": [
    "stack4 = stack4.resample(\"15T\").mean()"
   ]
  },
  {
   "cell_type": "code",
   "execution_count": 16,
   "metadata": {},
   "outputs": [
    {
     "name": "stdout",
     "output_type": "stream",
     "text": [
      "/home/datasets4/stein/rivers/raw_data//mv/vision_group_jena(1)/StALU VP_HST/Q_047590.txt\n",
      "/home/datasets4/stein/rivers/raw_data//mv/vision_group_jena(1)/StALU VP_HST/Q_045500.txt\n",
      "/home/datasets4/stein/rivers/raw_data//mv/vision_group_jena(1)/StALU VP_HST/Q_047562.txt\n",
      "/home/datasets4/stein/rivers/raw_data//mv/vision_group_jena(1)/StALU VP_HST/Q_045590.txt\n",
      "/home/datasets4/stein/rivers/raw_data//mv/vision_group_jena(1)/StALU VP_HST/Q_046111.txt\n",
      "/home/datasets4/stein/rivers/raw_data//mv/vision_group_jena(1)/StALU VP_HST/Q_046401.txt\n",
      "/home/datasets4/stein/rivers/raw_data//mv/vision_group_jena(1)/StALU VP_HST/Q_045061.txt\n",
      "/home/datasets4/stein/rivers/raw_data//mv/vision_group_jena(1)/StALU VP_HST/Q_046161.txt\n",
      "/home/datasets4/stein/rivers/raw_data//mv/vision_group_jena(1)/StALU VP_HST/Q_047700.txt\n",
      "/home/datasets4/stein/rivers/raw_data//mv/vision_group_jena(1)/StALU VP_HST/Q_045411.txt\n",
      "/home/datasets4/stein/rivers/raw_data//mv/vision_group_jena(1)/StALU VP_HST/Q_046175.txt\n",
      "/home/datasets4/stein/rivers/raw_data//mv/vision_group_jena(1)/StALU VP_HST/Q_047580.txt\n",
      "/home/datasets4/stein/rivers/raw_data//mv/vision_group_jena(1)/StALU VP_HST/Q_045530.txt\n",
      "/home/datasets4/stein/rivers/raw_data//mv/vision_group_jena(1)/StALU VP_HST/Q_046150.txt\n",
      "/home/datasets4/stein/rivers/raw_data//mv/vision_group_jena(1)/StALU VP_HST/Q_045813.txt\n",
      "/home/datasets4/stein/rivers/raw_data//mv/vision_group_jena(1)/StALU VP_HST/Q_045542.txt\n",
      "/home/datasets4/stein/rivers/raw_data//mv/vision_group_jena(1)/StALU VP_HST/Q_047570.txt\n",
      "/home/datasets4/stein/rivers/raw_data//mv/vision_group_jena(1)/StALU VP_HST/Q_045402.txt\n"
     ]
    },
    {
     "name": "stderr",
     "output_type": "stream",
     "text": [
      "/tmp/ipykernel_241635/2161987191.py:5: FutureWarning: 'T' is deprecated and will be removed in a future version, please use 'min' instead.\n",
      "  stack5 = stack5.resample(\"15T\").mean()\n"
     ]
    }
   ],
   "source": [
    "stack5 = [onlyfiles[4] +\"/\" +  x for x in listdir(onlyfiles[4])]\n",
    "stack5 = [format_4(x) for x in stack5]\n",
    "stack5 = reduce(lambda  left,right: pd.merge(left,right,left_index=True, right_index=True,\n",
    "                                            how='outer'), stack5)\n",
    "stack5 = stack5.resample(\"15T\").mean()"
   ]
  },
  {
   "cell_type": "code",
   "execution_count": 17,
   "metadata": {},
   "outputs": [
    {
     "name": "stdout",
     "output_type": "stream",
     "text": [
      "/home/datasets4/stein/rivers/raw_data//mv/vision_group_jena(1)/StALU VP UEM_Ost/049012_Ueckermünde-Klappbrücke_Q.txt\n",
      "['ID', 'date', 'time', 'value', '??', '?']\n"
     ]
    },
    {
     "name": "stderr",
     "output_type": "stream",
     "text": [
      "/tmp/ipykernel_241635/2475564141.py:29: FutureWarning: Series.__getitem__ treating keys as positions is deprecated. In a future version, integer keys will always be treated as labels (consistent with DataFrame behavior). To access a value by position, use `ser.iloc[pos]`\n",
      "  f = f[[f[\"ID\"][0]]]\n"
     ]
    },
    {
     "name": "stdout",
     "output_type": "stream",
     "text": [
      "/home/datasets4/stein/rivers/raw_data//mv/vision_group_jena(1)/StALU VP UEM_Ost/049301_Rieth_Q.txt\n",
      "['ID', 'date', 'time', 'value', '??', '?']\n"
     ]
    },
    {
     "name": "stderr",
     "output_type": "stream",
     "text": [
      "/tmp/ipykernel_241635/2475564141.py:29: FutureWarning: Series.__getitem__ treating keys as positions is deprecated. In a future version, integer keys will always be treated as labels (consistent with DataFrame behavior). To access a value by position, use `ser.iloc[pos]`\n",
      "  f = f[[f[\"ID\"][0]]]\n"
     ]
    },
    {
     "name": "stdout",
     "output_type": "stream",
     "text": [
      "/home/datasets4/stein/rivers/raw_data//mv/vision_group_jena(1)/StALU VP UEM_Ost/049071_Pasewalk-Bollwerk_Q.txt\n",
      "['ID', 'date', 'value', '?']\n"
     ]
    },
    {
     "name": "stderr",
     "output_type": "stream",
     "text": [
      "/tmp/ipykernel_241635/2475564141.py:29: FutureWarning: Series.__getitem__ treating keys as positions is deprecated. In a future version, integer keys will always be treated as labels (consistent with DataFrame behavior). To access a value by position, use `ser.iloc[pos]`\n",
      "  f = f[[f[\"ID\"][0]]]\n"
     ]
    },
    {
     "name": "stdout",
     "output_type": "stream",
     "text": [
      "/home/datasets4/stein/rivers/raw_data//mv/vision_group_jena(1)/StALU VP UEM_Ost/048602_Gehren-Wald_Q.txt\n",
      "['ID', 'date', 'time', 'value', '??', '?']\n"
     ]
    },
    {
     "name": "stderr",
     "output_type": "stream",
     "text": [
      "/tmp/ipykernel_241635/2475564141.py:29: FutureWarning: Series.__getitem__ treating keys as positions is deprecated. In a future version, integer keys will always be treated as labels (consistent with DataFrame behavior). To access a value by position, use `ser.iloc[pos]`\n",
      "  f = f[[f[\"ID\"][0]]]\n"
     ]
    },
    {
     "name": "stdout",
     "output_type": "stream",
     "text": [
      "/home/datasets4/stein/rivers/raw_data//mv/vision_group_jena(1)/StALU VP UEM_Ost/048601_Heinrichswalde-Nord_Q.txt\n",
      "['ID', 'date', 'time', 'value', '??', '?']\n"
     ]
    },
    {
     "name": "stderr",
     "output_type": "stream",
     "text": [
      "/tmp/ipykernel_241635/2475564141.py:29: FutureWarning: Series.__getitem__ treating keys as positions is deprecated. In a future version, integer keys will always be treated as labels (consistent with DataFrame behavior). To access a value by position, use `ser.iloc[pos]`\n",
      "  f = f[[f[\"ID\"][0]]]\n"
     ]
    }
   ],
   "source": [
    "stack6 = [onlyfiles[5] +\"/\" +  x for x in listdir(onlyfiles[5])]\n",
    "stack6 = [\n",
    "    format_1(\n",
    "        x,\n",
    "        encoding=\"ISO-8859-1\",\n",
    "        column_names=(\n",
    "            [\"ID\", \"date\", \"value\", \"?\"]\n",
    "            if \"Bollwerk\" in x\n",
    "            else [\"ID\", \"date\", \"time\", \"value\", \"??\", \"?\"]\n",
    "        ),\n",
    "        remove_quotation=False,\n",
    "    )\n",
    "    for x in stack6\n",
    "]\n",
    "\n",
    "# seems broken as we cant recover timestamps properly. leave out for now.\n",
    "stack6[2].index.value_counts().unique()\n",
    "del stack6[2]\n",
    "stack6 = reduce(lambda  left,right: pd.merge(left,right,left_index=True, right_index=True,\n",
    "                                            how='outer'), stack6)"
   ]
  },
  {
   "cell_type": "code",
   "execution_count": 18,
   "metadata": {},
   "outputs": [
    {
     "name": "stderr",
     "output_type": "stream",
     "text": [
      "/tmp/ipykernel_241635/1000634505.py:2: FutureWarning: 'T' is deprecated and will be removed in a future version, please use 'min' instead.\n",
      "  stack6 = stack6.resample(\"15T\").mean()\n"
     ]
    }
   ],
   "source": [
    "stack6.columns = [\"0\" + str(int(x)) for x in stack6.columns]\n",
    "stack6 = stack6.resample(\"15T\").mean()"
   ]
  },
  {
   "cell_type": "code",
   "execution_count": 19,
   "metadata": {},
   "outputs": [
    {
     "data": {
      "text/plain": [
       "False"
      ]
     },
     "execution_count": 19,
     "metadata": {},
     "output_type": "execute_result"
    }
   ],
   "source": [
    "'2021-03-04 12:02:00' in stack6.index"
   ]
  },
  {
   "cell_type": "code",
   "execution_count": 20,
   "metadata": {},
   "outputs": [],
   "source": [
    "data_product = reduce(lambda  left,right: pd.merge(left,right,left_index=True, right_index=True,\n",
    "                                            how='outer'), [stack1,stack2,stack3,stack4,stack5,stack6])\n"
   ]
  },
  {
   "cell_type": "code",
   "execution_count": 21,
   "metadata": {},
   "outputs": [
    {
     "data": {
      "text/plain": [
       "True"
      ]
     },
     "execution_count": 21,
     "metadata": {},
     "output_type": "execute_result"
    }
   ],
   "source": [
    "# mandatory consistency check. There shouldnt be any double ids.\n",
    "len(data_product.columns) == len(set(data_product.columns.values))"
   ]
  },
  {
   "cell_type": "code",
   "execution_count": 22,
   "metadata": {},
   "outputs": [],
   "source": [
    "data_product.to_csv(cache_path + \"mv_cache.csv\")"
   ]
  },
  {
   "cell_type": "code",
   "execution_count": 23,
   "metadata": {},
   "outputs": [],
   "source": [
    "# get all info from files to base meta data on. merge everything and be happy. \n",
    "# Also fix the resolution thing directly when parsing to reduce processing time."
   ]
  },
  {
   "cell_type": "code",
   "execution_count": 24,
   "metadata": {},
   "outputs": [],
   "source": [
    "# according to the website only ids with 4 have leading zeros.\n",
    "data_product.columns = [x[1:] if x[1] == \"5\" else x for x in data_product.columns.values]"
   ]
  },
  {
   "cell_type": "code",
   "execution_count": 25,
   "metadata": {},
   "outputs": [],
   "source": [
    "fail = []\n",
    "for x in data_product.columns:\n",
    "    try:\n",
    "        url_base = \"https://pegelportal-mv.de/pdf/pegelsteckbrief_\"\n",
    "        path = \"/home/datasets4/stein/rivers/raw_data/mv/pdf/pegelsteckbrief_\"\n",
    "        url = url_base + str(x)[:-1] + \".\" + str(x[-1]) + \".pdf\"\n",
    "        save_path = path + str(x)[:-1] + \".\" + str(x[-1]) + \".pdf\"\n",
    "\n",
    "        response = requests.get( url)\n",
    "        if response.status_code == 200:\n",
    "            with open(save_path, 'wb') as f:\n",
    "                f.write(response.content)\n",
    "        else:\n",
    "            fail.append(x)\n",
    "    except:\n",
    "        fail.append(x)"
   ]
  },
  {
   "cell_type": "code",
   "execution_count": 26,
   "metadata": {},
   "outputs": [],
   "source": [
    "data_product.drop(columns = fail, inplace=True)"
   ]
  },
  {
   "cell_type": "code",
   "execution_count": 27,
   "metadata": {},
   "outputs": [],
   "source": [
    "data_product = data_product[data_product.index.year < 2024]"
   ]
  },
  {
   "cell_type": "code",
   "execution_count": 28,
   "metadata": {},
   "outputs": [],
   "source": [
    "meta = []\n",
    "for x in data_product.columns: \n",
    "    raw = parser.from_file(data_path + \"/mv/pdf/pegelsteckbrief_\" + x[:-1] +  \".\" + x[-1] + \".pdf\")\n",
    "    X= int(raw[\"content\"].split(\"Rechtswert (ETRS89)\")[1].split(\"\\n\")[0][3:])\n",
    "    Y= int(raw[\"content\"].split(\"Hochwert (ETRS89)\")[1].split(\"\\n\")[0])\n",
    "    Z = float(raw[\"content\"].split(\"Pegelnull / System\")[1].split(\"\\n\")[0].split(\"/\")[0].replace(\",\",\".\"))\n",
    "    R = raw[\"content\"].split(\"Gewässer\")[1].split(\"\\n\")[0].strip(\" \")\n",
    "    meta.append([R,X,Y,np.nan,Z])"
   ]
  },
  {
   "cell_type": "code",
   "execution_count": 29,
   "metadata": {},
   "outputs": [],
   "source": [
    "meta = pd.DataFrame(meta,index=data_product.columns, columns = [\"R\", \"X\", \"Y\",\"D\", \"H\"])"
   ]
  },
  {
   "cell_type": "code",
   "execution_count": 30,
   "metadata": {},
   "outputs": [
    {
     "name": "stderr",
     "output_type": "stream",
     "text": [
      "/tmp/ipykernel_241635/3535649114.py:3: FutureWarning: Setting an item of incompatible dtype is deprecated and will raise an error in a future version of pandas. Value '53.79228781192966' has dtype incompatible with int64, please explicitly cast to a compatible dtype first.\n",
      "  meta.loc[ind, [\"X\", \"Y\"]] = utm.to_latlon(\n",
      "/tmp/ipykernel_241635/3535649114.py:3: FutureWarning: Setting an item of incompatible dtype is deprecated and will raise an error in a future version of pandas. Value '13.311800586833666' has dtype incompatible with int64, please explicitly cast to a compatible dtype first.\n",
      "  meta.loc[ind, [\"X\", \"Y\"]] = utm.to_latlon(\n"
     ]
    }
   ],
   "source": [
    "# saxony parsing\n",
    "for ind, line in meta.iterrows():\n",
    "    meta.loc[ind, [\"X\", \"Y\"]] = utm.to_latlon(\n",
    "        line[\"X\"], line[\"Y\"], 33, \"U\"\n",
    "    )"
   ]
  },
  {
   "cell_type": "code",
   "execution_count": 31,
   "metadata": {},
   "outputs": [],
   "source": [
    "meta[\"QD\"] = -1\n",
    "meta[\"QH\"] = -1\n",
    "meta[\"QX\"] = -1\n",
    "meta[\"QY\"] = -1\n",
    "meta[\"QR\"] = -1"
   ]
  },
  {
   "cell_type": "code",
   "execution_count": 32,
   "metadata": {},
   "outputs": [],
   "source": [
    "meta.loc[~(meta[\"X\"].isnull()), \"QX\"] = 0\n",
    "meta.loc[~(meta[\"Y\"].isnull()), \"QY\"] = 0\n",
    "meta.loc[~(meta[\"D\"].isnull()), \"QD\"] = 0\n",
    "meta.loc[~(meta[\"R\"].isnull()), \"QR\"] = 0\n",
    "meta.loc[~(meta[\"H\"].isnull()), \"QH\"] = 0"
   ]
  },
  {
   "cell_type": "code",
   "execution_count": 33,
   "metadata": {},
   "outputs": [],
   "source": [
    "# Important! During a late stage of the project, MV updated there data sites, which allowed us to actually download meta data on 8 more stations which we previously dropped. \n",
    "# To not disturb the already gained results, we will still drop them here.\n",
    "\n",
    "drop_to_confirm_previous_state = [\n",
    "        '595890',\n",
    "        '595005',\n",
    "        '598701',\n",
    "        '047402',\n",
    "        '046641',\n",
    "        '046614',\n",
    "        '047453',\n",
    "        '046660'\n",
    " ]"
   ]
  },
  {
   "cell_type": "code",
   "execution_count": 34,
   "metadata": {},
   "outputs": [],
   "source": [
    "meta.drop(index=drop_to_confirm_previous_state, inplace=True)"
   ]
  },
  {
   "cell_type": "code",
   "execution_count": 35,
   "metadata": {},
   "outputs": [],
   "source": [
    "data_product.columns = [x + \"_mv\" for x in data_product.columns]\n"
   ]
  },
  {
   "cell_type": "code",
   "execution_count": 41,
   "metadata": {},
   "outputs": [],
   "source": [
    "data_product.drop(columns= [x + \"_mv\" for x in drop_to_confirm_previous_state], inplace=True)"
   ]
  },
  {
   "cell_type": "code",
   "execution_count": 43,
   "metadata": {},
   "outputs": [],
   "source": [
    "data_product.to_csv(output_path + \"mv_processed.csv\")"
   ]
  },
  {
   "cell_type": "code",
   "execution_count": 44,
   "metadata": {},
   "outputs": [],
   "source": [
    "meta.to_csv(output_path + \"mv_meta_data.csv\")\n"
   ]
  }
 ],
 "metadata": {
  "kernelspec": {
   "display_name": "causal_rivers_construction",
   "language": "python",
   "name": "python3"
  },
  "language_info": {
   "codemirror_mode": {
    "name": "ipython",
    "version": 3
   },
   "file_extension": ".py",
   "mimetype": "text/x-python",
   "name": "python",
   "nbconvert_exporter": "python",
   "pygments_lexer": "ipython3",
   "version": "3.13.0"
  }
 },
 "nbformat": 4,
 "nbformat_minor": 2
}
