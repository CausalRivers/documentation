{
 "cells": [
  {
   "cell_type": "code",
   "execution_count": null,
   "metadata": {},
   "outputs": [],
   "source": [
    "import pandas as pd\n",
    "import functools as ft\n",
    "import utm\n",
    "import numpy as np\n",
    "from os import listdir\n",
    "import functools as ft\n",
    "from os.path import isfile, join\n",
    "\n",
    "import sys\n",
    "sys.path.append(\"..\")\n",
    "from tools import data_path, output_path"
   ]
  },
  {
   "cell_type": "markdown",
   "metadata": {},
   "source": [
    "### Data origin: \n",
    " Files were downloaded by hand over the data provider. Not reproducible without original data."
   ]
  },
  {
   "cell_type": "code",
   "execution_count": 9,
   "metadata": {},
   "outputs": [],
   "source": [
    "mypath = data_path + 'bavaria/fluesse-abfluss'"
   ]
  },
  {
   "cell_type": "code",
   "execution_count": 10,
   "metadata": {},
   "outputs": [],
   "source": [
    "onlyfiles = [mypath + \"/\" + f for f in listdir(mypath) if isfile(join(mypath, f))]"
   ]
  },
  {
   "cell_type": "code",
   "execution_count": 11,
   "metadata": {},
   "outputs": [],
   "source": [
    "def parse_table_bavaria(p):\n",
    "    meta = pd.read_csv(p,nrows=5, sep=\";\")\n",
    "    coords = pd.read_csv(p,skiprows=6,nrows=0, sep=\";\").columns\n",
    "    H = pd.read_csv(p,skiprows=7,nrows=0, sep=\";\").columns\n",
    "    data = pd.read_csv(p,skiprows=8, sep=\";\")\n",
    "    #data[\"Abfluss [m³/s]\"] = data[\"Abfluss [m³/s]\"].str.replace(\",\",\".\").astype(float)\n",
    "    data[\"Datum\"] = pd.to_datetime(data[\"Datum\"])\n",
    "    names = list(meta[\"Quelle:\"].str[:-1].values)\n",
    "    val = list(meta[\"Bayerisches Landesamt für Umwelt, www.gkd.bayern.de\"].values)\n",
    "    names.append(coords[0])\n",
    "    names.append(coords[2])\n",
    "    val.append(coords[1])\n",
    "    val.append(coords[3])\n",
    "    names.append(\"coord meta\")\n",
    "    val.append(coords[4])\n",
    "    names.append(H[0])\n",
    "    val.append(H[1])\n",
    "    meta = pd.DataFrame(val,index = names, columns = [p.split(\"/\")[-1].split(\"_\")[0]])\n",
    "    data.rename(columns={\"Abfluss [m³/s]\": p.split(\"/\")[-1].split(\"_\")[0]}, inplace=True)\n",
    "    data.index = data[\"Datum\"]\n",
    "    data.drop(columns=[\"Prüfstatus\", \"Datum\"], inplace=True)\n",
    "    return data, meta"
   ]
  },
  {
   "cell_type": "code",
   "execution_count": 12,
   "metadata": {},
   "outputs": [
    {
     "name": "stdout",
     "output_type": "stream",
     "text": [
      "/home/datasets4/stein/rivers/raw_data/bavaria/fluesse-abfluss/24121005_01.01.2019_31.12.2023_ezw_0.csv\n",
      "/home/datasets4/stein/rivers/raw_data/bavaria/fluesse-abfluss/24116005_01.01.2019_31.12.2023_ezw_0.csv\n",
      "/home/datasets4/stein/rivers/raw_data/bavaria/fluesse-abfluss/.~lock.12183005_01.01.2019_31.12.2023_ezw_0.csv#\n"
     ]
    }
   ],
   "source": [
    "# some stations are have no data available.\n",
    "data_stack = []\n",
    "meta_stack = []\n",
    "for x in onlyfiles:\n",
    "    try:\n",
    "        a,b = parse_table_bavaria(x)\n",
    "        data_stack.append(a)\n",
    "        meta_stack.append(b)\n",
    "    except:\n",
    "        print(x)"
   ]
  },
  {
   "cell_type": "code",
   "execution_count": 13,
   "metadata": {},
   "outputs": [],
   "source": [
    "meta  = ft.reduce(lambda left, right: pd.merge(left, right,how=\"outer\", left_index=True, right_index=True), meta_stack).T\n",
    "data =  ft.reduce(lambda left, right: pd.merge(left, right,how=\"outer\", left_index=True, right_index=True), data_stack)\n",
    "data.columns = [x +\"_ba\" for x in data.columns]"
   ]
  },
  {
   "cell_type": "code",
   "execution_count": 14,
   "metadata": {},
   "outputs": [
    {
     "name": "stdout",
     "output_type": "stream",
     "text": [
      "24064003_ba\n",
      "10078000_ba\n",
      "18005000_ba\n",
      "24022003_ba\n",
      "18008008_ba\n",
      "10062000_ba\n",
      "10092000_ba\n",
      "10056302_ba\n",
      "10088003_ba\n",
      "24050009_ba\n"
     ]
    }
   ],
   "source": [
    "for x in data.columns:\n",
    "    try:\n",
    "        data[x] = data[x].str.replace(\",\", \".\")\n",
    "    except:\n",
    "        print(x)"
   ]
  },
  {
   "cell_type": "code",
   "execution_count": 16,
   "metadata": {},
   "outputs": [
    {
     "ename": "NameError",
     "evalue": "name 'output_path' is not defined",
     "output_type": "error",
     "traceback": [
      "\u001b[0;31m---------------------------------------------------------------------------\u001b[0m",
      "\u001b[0;31mNameError\u001b[0m                                 Traceback (most recent call last)",
      "Cell \u001b[0;32mIn[16], line 1\u001b[0m\n\u001b[0;32m----> 1\u001b[0m \u001b[43moutput_path\u001b[49m\n",
      "\u001b[0;31mNameError\u001b[0m: name 'output_path' is not defined"
     ]
    }
   ],
   "source": [
    "output_path"
   ]
  },
  {
   "cell_type": "code",
   "execution_count": 20,
   "metadata": {},
   "outputs": [],
   "source": [
    "data = data.astype(float)\n",
    "data.to_csv(output_path + \"bavaria_processed.csv\")"
   ]
  },
  {
   "cell_type": "markdown",
   "metadata": {},
   "source": [
    "## Bring to standard format"
   ]
  },
  {
   "cell_type": "code",
   "execution_count": 28,
   "metadata": {},
   "outputs": [],
   "source": [
    "# coordinates\n",
    "# same as thuringia parsing\n",
    "for ind, line in meta.iterrows():\n",
    "    try:\n",
    "        meta.loc[ind, [\"Ostwert:\", \"Nordwert:\"]] = utm.to_latlon(\n",
    "            int(line[\"Ostwert:\"]), int(line[\"Nordwert:\"]), 32, \"N\"\n",
    "        )\n",
    "    except:\n",
    "        print(ind)\n",
    "        pass"
   ]
  },
  {
   "cell_type": "code",
   "execution_count": 29,
   "metadata": {},
   "outputs": [],
   "source": [
    "meta = meta[[\"Gewässer\",\"Ostwert:\", \"Nordwert:\", \"Pegelnullpunktshöhe:\"]]\n",
    "meta.columns = [\"R\", \"X\", \"Y\", \"H\"]\n",
    "meta[\"D\"] = np.nan"
   ]
  },
  {
   "cell_type": "code",
   "execution_count": 30,
   "metadata": {},
   "outputs": [],
   "source": [
    "meta[\"H\"] = meta[\"H\"].str.replace(\" m NHN (DHHN2016)\", \"\", regex=False).str.replace(\n",
    "    \" m NN (DHHN12)\", \"\", regex=False\n",
    ").str.replace(\n",
    "    \" m ü. NN\", \"\", regex=False\n",
    ").str.replace(\n",
    "    \" m NN (Alt_System)\", \"\", regex=False\n",
    ").str.replace(\n",
    "    \" m NHN (DHHN92)\", \"\", regex=False\n",
    ").str.replace(\",\", \".\").astype(float)"
   ]
  },
  {
   "cell_type": "code",
   "execution_count": 31,
   "metadata": {},
   "outputs": [
    {
     "data": {
      "text/plain": [
       "R      0\n",
       "X      0\n",
       "Y      0\n",
       "H      1\n",
       "D    503\n",
       "dtype: int64"
      ]
     },
     "execution_count": 31,
     "metadata": {},
     "output_type": "execute_result"
    }
   ],
   "source": [
    "meta.isnull().sum()"
   ]
  },
  {
   "cell_type": "code",
   "execution_count": 32,
   "metadata": {},
   "outputs": [],
   "source": [
    "# Set everything to -1 (for not determined)\n",
    "# Then set all values that are available to 0 (real data.)\n",
    "meta[\"QD\"] = -1\n",
    "meta[\"QH\"] = -1\n",
    "meta[\"QX\"] = -1\n",
    "meta[\"QY\"] = -1\n",
    "meta[\"QR\"] = -1"
   ]
  },
  {
   "cell_type": "code",
   "execution_count": 33,
   "metadata": {},
   "outputs": [],
   "source": [
    "meta.loc[~(meta[\"X\"].isnull()), \"QX\"] = 0\n",
    "meta.loc[~(meta[\"Y\"].isnull()), \"QY\"] = 0\n",
    "meta.loc[~(meta[\"D\"].isnull()), \"QD\"] = 0\n",
    "meta.loc[~(meta[\"R\"].isnull()), \"QR\"] = 0\n",
    "meta.loc[~(meta[\"H\"].isnull()), \"QH\"] = 0"
   ]
  },
  {
   "cell_type": "code",
   "execution_count": null,
   "metadata": {},
   "outputs": [
    {
     "ename": "",
     "evalue": "",
     "output_type": "error",
     "traceback": [
      "\u001b[1;31mThe Kernel crashed while executing code in the current cell or a previous cell. \n",
      "\u001b[1;31mPlease review the code in the cell(s) to identify a possible cause of the failure. \n",
      "\u001b[1;31mClick <a href='https://aka.ms/vscodeJupyterKernelCrash'>here</a> for more info. \n",
      "\u001b[1;31mView Jupyter <a href='command:jupyter.viewOutput'>log</a> for further details."
     ]
    }
   ],
   "source": [
    "meta.to_csv(output_path + \"processed/bavaria_meta_data.csv\")"
   ]
  }
 ],
 "metadata": {
  "kernelspec": {
   "display_name": "causal_rivers_construction",
   "language": "python",
   "name": "python3"
  },
  "language_info": {
   "codemirror_mode": {
    "name": "ipython",
    "version": 3
   },
   "file_extension": ".py",
   "mimetype": "text/x-python",
   "name": "python",
   "nbconvert_exporter": "python",
   "pygments_lexer": "ipython3",
   "version": "3.13.0"
  }
 },
 "nbformat": 4,
 "nbformat_minor": 2
}
