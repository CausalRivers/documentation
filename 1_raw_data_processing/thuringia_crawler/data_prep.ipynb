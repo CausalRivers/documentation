{
 "cells": [
  {
   "cell_type": "code",
   "execution_count": 1,
   "metadata": {},
   "outputs": [],
   "source": [
    "import pandas as pd\n",
    "import functools as ft\n",
    "import utm\n",
    "import numpy as np\n",
    "from datetime import datetime, timedelta\n",
    "\n",
    "import sys\n",
    "\n",
    "sys.path.append(\"..\")\n",
    "from tools import data_path, output_path, cache_path"
   ]
  },
  {
   "cell_type": "markdown",
   "metadata": {},
   "source": [
    "### Data origin: \n",
    "We got a full data file provided by the thuringian authorities (Both TS and meta data)"
   ]
  },
  {
   "cell_type": "code",
   "execution_count": null,
   "metadata": {},
   "outputs": [],
   "source": [
    "#145773509 length... pain in the ass to process.\n",
    "data = pd.read_csv(data_path + 'thuringia.tsv', sep='\\t', header=0)"
   ]
  },
  {
   "cell_type": "code",
   "execution_count": null,
   "metadata": {},
   "outputs": [],
   "source": [
    "# So we dont run out of ram\n",
    "stack = []\n",
    "step = 1000000\n",
    "for x in range(150):\n",
    "    c = data[step*x:x*step+step][~(data[step*x:x*step+step][\"ZEIT\"].str[6:-6].astype(int) > 24)]\n",
    "    c2 = c[(c[\"ZEIT\"].str[6:-6].astype(int) > 18)]\n",
    "    if len(c2) == 0:\n",
    "        pass\n",
    "    else:\n",
    "        stack.append(c2) "
   ]
  },
  {
   "cell_type": "code",
   "execution_count": 94,
   "metadata": {},
   "outputs": [],
   "source": [
    "stack = pd.concat(stack)\n",
    "stack.drop(columns=\"QUELLE\", inplace=True)\n",
    "stack.to_csv(cache_path + \"thuringia_short.csv\")"
   ]
  },
  {
   "cell_type": "markdown",
   "metadata": {},
   "source": [
    "### Reload"
   ]
  },
  {
   "cell_type": "code",
   "execution_count": 2,
   "metadata": {},
   "outputs": [
    {
     "name": "stderr",
     "output_type": "stream",
     "text": [
      "/tmp/ipykernel_53843/3182417807.py:1: DtypeWarning: Columns (2) have mixed types. Specify dtype option on import or set low_memory=False.\n",
      "  stack = pd.read_csv(cache_path + \"thuringia_short.csv\", index_col=0)\n"
     ]
    }
   ],
   "source": [
    "stack = pd.read_csv(cache_path + \"thuringia_short.csv\", index_col=0)"
   ]
  },
  {
   "cell_type": "code",
   "execution_count": 3,
   "metadata": {},
   "outputs": [],
   "source": [
    "meta = pd.read_csv(data_path + \"meta_thuringia/pegel.tsv\", sep='\\t', header=0, encoding_errors=\"ignore\")"
   ]
  },
  {
   "cell_type": "code",
   "execution_count": 4,
   "metadata": {},
   "outputs": [],
   "source": [
    "# Remove duplicates and merge.\n",
    "\n",
    "hold = []\n",
    "cols = stack[\"MESSTELLEN_NR\"].unique()\n",
    "for x in cols:\n",
    "    new = stack[stack[\"MESSTELLEN_NR\"] == x].sort_values(\"ZEIT\")\n",
    "    new.rename(columns={\"Q\": x}, inplace=True)\n",
    "    new.index = new[\"ZEIT\"].values\n",
    "    new.drop(columns= [\"MESSTELLEN_NR\", \"ZEIT\"], inplace=True)\n",
    "    hold.append(new)"
   ]
  },
  {
   "cell_type": "code",
   "execution_count": 5,
   "metadata": {},
   "outputs": [],
   "source": [
    "for x in range(len(hold)):\n",
    "    hold[x] = hold[x][~hold[x].index.duplicated(keep='first')]"
   ]
  },
  {
   "cell_type": "code",
   "execution_count": 6,
   "metadata": {},
   "outputs": [],
   "source": [
    "df_final = ft.reduce(lambda left, right: pd.merge(left, right,how=\"outer\", left_index=True, right_index=True), hold)"
   ]
  },
  {
   "cell_type": "code",
   "execution_count": 7,
   "metadata": {},
   "outputs": [
    {
     "data": {
      "text/plain": [
       "[572050, 5746020]"
      ]
     },
     "execution_count": 7,
     "metadata": {},
     "output_type": "execute_result"
    }
   ],
   "source": [
    "# We got all basically all columns that we have in meta.\n",
    "[x for x in df_final.columns if int(x) not in meta[\"MESSTELLEN_NR\"].values]"
   ]
  },
  {
   "cell_type": "code",
   "execution_count": 8,
   "metadata": {},
   "outputs": [],
   "source": [
    "meta_data_thuringia = meta.loc[\n",
    "    meta[\"MESSTELLEN_NR\"].isin(df_final.columns.astype(int)),\n",
    "    [\n",
    "        \"MESSTELLEN_NR\",\n",
    "        \"STANDORT\",\n",
    "        \"GEWAESSER\",\n",
    "        \"OSTWERT\",\n",
    "        \"NORDWERT\",\n",
    "        \"ENTFERNUNG_MUENDUNG\",\n",
    "        \"GEWAESSER_KZ\",\n",
    "    ],\n",
    "]"
   ]
  },
  {
   "cell_type": "code",
   "execution_count": 9,
   "metadata": {},
   "outputs": [
    {
     "data": {
      "text/plain": [
       "MESSTELLEN_NR           0\n",
       "STANDORT                0\n",
       "GEWAESSER               0\n",
       "OSTWERT                27\n",
       "NORDWERT               27\n",
       "ENTFERNUNG_MUENDUNG    42\n",
       "GEWAESSER_KZ           38\n",
       "dtype: int64"
      ]
     },
     "execution_count": 9,
     "metadata": {},
     "output_type": "execute_result"
    }
   ],
   "source": [
    "# We got some unknown positions but we can fix that later.\n",
    "meta_data_thuringia.isnull().sum()"
   ]
  },
  {
   "cell_type": "code",
   "execution_count": 10,
   "metadata": {},
   "outputs": [],
   "source": [
    "df_final.columns = [str(x) + \"_t\" for x in df_final.columns]"
   ]
  },
  {
   "cell_type": "markdown",
   "metadata": {},
   "source": [
    "### Now we bring it to the joint format."
   ]
  },
  {
   "cell_type": "code",
   "execution_count": 11,
   "metadata": {},
   "outputs": [],
   "source": [
    "# extra parsing\n",
    "\n",
    "meta_data_thuringia[\"ENTFERNUNG_MUENDUNG\"] = meta_data_thuringia[\"ENTFERNUNG_MUENDUNG\"].astype(str).str.replace(\",\", \".\").astype(float)\n",
    "meta_data_thuringia.loc[meta_data_thuringia[\"GEWAESSER_KZ\"].isnull(),\"GEWAESSER_KZ\"] = -1"
   ]
  },
  {
   "cell_type": "code",
   "execution_count": 12,
   "metadata": {},
   "outputs": [],
   "source": [
    "# coordinates\n",
    "# thuringia parsing\n",
    "for ind, line in meta_data_thuringia.iterrows():\n",
    "    try:\n",
    "        meta_data_thuringia.loc[ind, [\"OSTWERT\", \"NORDWERT\"]] = utm.to_latlon(\n",
    "            line[\"OSTWERT\"], line[\"NORDWERT\"], 32, \"U\"\n",
    "        )\n",
    "    except:\n",
    "        pass"
   ]
  },
  {
   "cell_type": "code",
   "execution_count": 13,
   "metadata": {},
   "outputs": [],
   "source": [
    "save_index = meta_data_thuringia[\"MESSTELLEN_NR\"].values"
   ]
  },
  {
   "cell_type": "code",
   "execution_count": 14,
   "metadata": {},
   "outputs": [],
   "source": [
    "meta_data_thuringia = meta_data_thuringia[[\"GEWAESSER\", \"OSTWERT\",\t\"NORDWERT\",\t\"ENTFERNUNG_MUENDUNG\"]]\n",
    "meta_data_thuringia.columns = [\"R\", \"X\", \"Y\", \"D\"]\n",
    "meta_data_thuringia.index = save_index\n",
    "meta_data_thuringia.index.name = \"ID\"\n",
    "meta_data_thuringia[\"H\"] = np.nan"
   ]
  },
  {
   "cell_type": "code",
   "execution_count": 15,
   "metadata": {},
   "outputs": [],
   "source": [
    "# Set everything to -1 (for not determined)\n",
    "# Then set all values that are available to 0 (real data.)\n",
    "meta_data_thuringia[\"QD\"] = -1\n",
    "meta_data_thuringia[\"QH\"] = -1\n",
    "meta_data_thuringia[\"QX\"] = -1\n",
    "meta_data_thuringia[\"QY\"] = -1\n",
    "meta_data_thuringia[\"QR\"] = -1"
   ]
  },
  {
   "cell_type": "code",
   "execution_count": 16,
   "metadata": {},
   "outputs": [],
   "source": [
    "meta_data_thuringia.loc[~(meta_data_thuringia[\"X\"].isnull()), \"QX\"] = 0\n",
    "meta_data_thuringia.loc[~(meta_data_thuringia[\"Y\"].isnull()), \"QY\"] = 0\n",
    "meta_data_thuringia.loc[~(meta_data_thuringia[\"D\"].isnull()), \"QD\"] = 0\n",
    "meta_data_thuringia.loc[~(meta_data_thuringia[\"R\"].isnull()), \"QR\"] = 0\n",
    "meta_data_thuringia.loc[~(meta_data_thuringia[\"H\"].isnull()), \"QH\"] = 0"
   ]
  },
  {
   "cell_type": "code",
   "execution_count": 17,
   "metadata": {},
   "outputs": [],
   "source": [
    "# Float conversion\n",
    "for val in df_final.columns:\n",
    "    try:\n",
    "        df_final[val] = df_final[val].str.replace(\",\", \".\").astype(float)\n",
    "    except:\n",
    "        pass\n",
    "        #print(val,df_final[val].dtype)"
   ]
  },
  {
   "cell_type": "code",
   "execution_count": 18,
   "metadata": {},
   "outputs": [],
   "source": [
    "# Map full dt to see if something is missing\n",
    "t = pd.to_datetime(np.arange(datetime(2019,1,1, 0,0), datetime(2023,12,31,23,46), timedelta(minutes=15)).astype(datetime))"
   ]
  },
  {
   "cell_type": "code",
   "execution_count": 19,
   "metadata": {},
   "outputs": [
    {
     "name": "stderr",
     "output_type": "stream",
     "text": [
      "/tmp/ipykernel_53843/3521525525.py:1: UserWarning: Could not infer format, so each element will be parsed individually, falling back to `dateutil`. To ensure parsing is consistent and as-expected, please specify a format.\n",
      "  df_final.index = pd.to_datetime(df_final.index)\n"
     ]
    }
   ],
   "source": [
    "df_final.index = pd.to_datetime(df_final.index)"
   ]
  },
  {
   "cell_type": "code",
   "execution_count": 20,
   "metadata": {},
   "outputs": [],
   "source": [
    "issues = [x for x in df_final.index if x not in t]\n",
    "issues2 = [x for x in t if x not in df_final.index]\n",
    "# Whacky dates in 2019 and missing in 2023. We simply drop them here as the real timestamps exists  and the timestamps are often nan."
   ]
  },
  {
   "cell_type": "code",
   "execution_count": 21,
   "metadata": {},
   "outputs": [],
   "source": [
    "df_final = df_final.loc[[x for x in t if x in df_final.index]]"
   ]
  },
  {
   "cell_type": "code",
   "execution_count": 22,
   "metadata": {},
   "outputs": [],
   "source": [
    "meta_data_thuringia.to_csv(output_path + \"thuringia_meta_data.csv\")\n",
    "df_final.to_csv(output_path + \"thuringia_processed.csv\")"
   ]
  },
  {
   "cell_type": "code",
   "execution_count": 26,
   "metadata": {},
   "outputs": [],
   "source": [
    "a = pd.read_csv(output_path + \"thuringia_meta_data.csv\")\n",
    "b = pd.read_csv(\"/home/datasets4/stein/rivers/processed/\" + \"thuringia_meta_data.csv\")"
   ]
  }
 ],
 "metadata": {
  "kernelspec": {
   "display_name": "causal_rivers_construction",
   "language": "python",
   "name": "python3"
  },
  "language_info": {
   "codemirror_mode": {
    "name": "ipython",
    "version": 3
   },
   "file_extension": ".py",
   "mimetype": "text/x-python",
   "name": "python",
   "nbconvert_exporter": "python",
   "pygments_lexer": "ipython3",
   "version": "3.13.0"
  }
 },
 "nbformat": 4,
 "nbformat_minor": 2
}
